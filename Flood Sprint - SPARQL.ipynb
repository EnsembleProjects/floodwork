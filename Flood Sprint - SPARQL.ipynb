{
 "cells": [
  {
   "cell_type": "markdown",
   "metadata": {},
   "source": [
    "## RISK ANALYSIS - SPARQL"
   ]
  },
  {
   "cell_type": "markdown",
   "metadata": {},
   "source": [
    "### What is the flood risk in Newark? \n",
    "As a flood risk manager, I want to understand the flood risk of Newark and the associated uncertainties. This flood risk assessment should combine information from all available data sources. Any inconsistencies in the modelling assumption should be made visible as well potential intervention strategies to reduce and mitigate flood risk.\n",
    "### Questions of interest\n",
    "__Damage Estimation__\n",
    "* What is the expected annual damage for Newark?\n",
    "* How are the damages separated by certain confounding factors?\n",
    ">* Type of property\n",
    ">* Gauges for which the properties are linked \n",
    ">* Flood warning areas\n",
    ">* Time of the modelling studies used in the damage estimations\n",
    "* How do the estimates vary through considering a number of different estimation techniques and uncertainties?\n",
    ">* Interpolation schemes \n",
    ">* Different assumptions\n",
    ">>* Onset of flooding\n",
    ">> * Truncation error\n",
    ">> * Uncertainty \t\n",
    "* Flood Defence Schemes (Cost Benefit Analysis)\n",
    ">* How much savings would flood defences with particular design criteria (protection to a particular return period) save? \n",
    ">* Since the hydraulic model was run, have any new flood defences been installed? \n",
    ">* Are there any proposed flood defence schemes in Newark? Does this analysis suggest that the flood defence is financially justified? \n",
    "* Observed Events\n",
    ">* Can retrieve information about these events from Section 19 reports or from other sources? \n",
    ">* Can we retrieve estimates of the return period and estimates of the damage of these observed event\n",
    ">>* Can this unstructured information provide additional information in the calculation of the expected annual damage\n",
    ">>* Is this new observed event greater than the design events considered in the hydraulic model? If so highlight the models that need to be rerun \n",
    "* Provenance of Models \n",
    ">* If a model is out of date, there should be the option to re run the model (it is unlikely that we will have the time to implement but we could produce a guided example through using the open source software HEC-RAS)\n",
    ">* If two potential models exist for the same location (this currently does not exist in the Communities at Risk data set), the query should reveal the differences between the two models and reveal the provenance of a particular model \n",
    "* How do I want the results to be presented?\n",
    ">* Where possible all results should be presented spatially? \n",
    ">* All possible available metadata should be returned along with the assumptions made in the damage calculations \n",
    ">* Possible interventions strategies to reduce flood risk should be suggested with supporting evidence \n",
    ">* Any models that might be out of date should be highlighted "
   ]
  },
  {
   "cell_type": "markdown",
   "metadata": {},
   "source": [
    "### Setup SPARQL parameters for triple store and data formatting"
   ]
  },
  {
   "cell_type": "code",
   "execution_count": 1,
   "metadata": {
    "scrolled": true
   },
   "outputs": [
    {
     "data": {
      "text/html": [
       "<div class=\"krn-spql\"><div class=\"magic\">Endpoint set to: http://localhost:8890/sparql/</div><div class=\"magic\">Return format: JSON</div><div class=\"magic\">Display: table</div></div>"
      ],
      "text/plain": [
       "Endpoint set to: http://localhost:8890/sparql/\n",
       "Return format: JSON\n",
       "Display: table\n"
      ]
     },
     "metadata": {},
     "output_type": "display_data"
    }
   ],
   "source": [
    "%endpoint http://localhost:8890/sparql/\n",
    "%format JSON\n",
    "%display table"
   ]
  },
  {
   "cell_type": "markdown",
   "metadata": {},
   "source": [
    "### General information about Newark from dbpedia"
   ]
  },
  {
   "cell_type": "code",
   "execution_count": 2,
   "metadata": {},
   "outputs": [
    {
     "data": {
      "text/html": [
       "<div class=\"krn-spql\"><table><tr class=hdr><th>postTown</th>\n",
       "<th>lat</th>\n",
       "<th>long</th>\n",
       "<th>comment</th>\n",
       "<th>population</th></tr><tr class=odd><td class=val>NEWARK</td>\n",
       "<td class=val>53.0765</td>\n",
       "<td class=val>-0.81</td>\n",
       "<td class=val>Newark-on-Trent or Newark /ˈnjuːək/ is a market town in Nottinghamshire in the East Midlands of England. It stands on the River Trent, the A1 (on the route of the ancient Great North Road), and the East Coast Main Line railway. The origins of the town are possibly Roman as it lies on an important Roman road, the Fosse Way. The town grew around Newark Castle, now ruined, and a large marketplace, now lined with historic buildings, and was a centre for the wool and cloth trade. In the English Civil War, it was besieged by Parliamentary forces and had to be relieved by Prince Rupert in a battle known as the Relief of Newark.</td>\n",
       "<td class=val>27700</td></tr></table><div class=\"tinfo\">Total: 1, Shown: 1</div></div>"
      ]
     },
     "metadata": {},
     "output_type": "display_data"
    }
   ],
   "source": [
    "prefix rdfs: <http://www.w3.org/2000/01/rdf-schema#>\n",
    "prefix dbp: <http://dbpedia.org/property/>\n",
    "prefix dbo: <http://dbpedia.org/ontology/>\n",
    "prefix dbr: <http://dbpedia.org/resource/>\n",
    "\n",
    "select distinct  ?postTown ?lat ?long ?comment ?population\n",
    "where  { \n",
    "    service <http://dbpedia.org/sparql/> {\n",
    "        dbr:Newark-on-Trent dbp:postTown ?postTown ;\n",
    "                            dbp:latitude ?lat ;\n",
    "                            dbp:longitude ?long ;\n",
    "                            rdfs:comment ?comment ;\n",
    "                            dbo:populationTotal ?population .\n",
    "        filter langMatches(lang(?comment),\"en\")\n",
    "    }\n",
    "}"
   ]
  },
  {
   "cell_type": "markdown",
   "metadata": {},
   "source": [
    "### EAD for Newark"
   ]
  },
  {
   "cell_type": "code",
   "execution_count": 6,
   "metadata": {},
   "outputs": [
    {
     "data": {
      "text/html": [
       "<div class=\"krn-spql\"><table><tr class=hdr><th>ead_mean</th></tr><tr class=odd><td class=val>2990942.123677239</td></tr></table><div class=\"tinfo\">Total: 1, Shown: 1</div></div>"
      ]
     },
     "metadata": {},
     "output_type": "display_data"
    }
   ],
   "source": [
    "prefix pd: <http://ensembleprojects.org/ds/ns/floodrisk/property_data#>\n",
    "prefix dpd: <http://ensembleprojects.org/ns/floodrisk/property_data#>\n",
    "prefix xsd: <http://www.w3.org/2001/XMLSchema#>\n",
    "\n",
    "select  (sum(xsd:decimal(?ead_mean)) as ?ead_mean)\n",
    "from <http://ensembleprojects.org/ds/floodrisk/property>\n",
    "from <http://ensembleprojects.org/graph/floodrisk/damage#0>\n",
    "where {\n",
    "    ?property pd:posttown \"NEWARK\" .\n",
    "    ?property pd:jbapropRef ?ref .\n",
    "    ?newProperty dpd:propRef ?ref . \n",
    "    ?newProperty dpd:ead_mean ?ead_mean .\n",
    "}\n"
   ]
  },
  {
   "cell_type": "markdown",
   "metadata": {},
   "source": [
    "### EAD for Newark by Property Type"
   ]
  },
  {
   "cell_type": "code",
   "execution_count": 8,
   "metadata": {},
   "outputs": [
    {
     "data": {
      "text/html": [
       "<div class=\"krn-spql\"><table><tr class=hdr><th>jbapropertyType</th>\n",
       "<th>ead_mean</th></tr><tr class=odd><td class=val>Critical</td>\n",
       "<td class=val>43146.792719425</td></tr><tr class=even><td class=val>Commercial</td>\n",
       "<td class=val>2183324.409408537</td></tr><tr class=odd><td class=val>Residential</td>\n",
       "<td class=val>764470.921549277</td></tr></table><div class=\"tinfo\">Total: 3, Shown: 3</div></div>"
      ]
     },
     "metadata": {},
     "output_type": "display_data"
    }
   ],
   "source": [
    "prefix pd: <http://ensembleprojects.org/ds/ns/floodrisk/property_data#>\n",
    "prefix dpd: <http://ensembleprojects.org/ns/floodrisk/property_data#>\n",
    "prefix xsd: <http://www.w3.org/2001/XMLSchema#>\n",
    "\n",
    "select  ?jbapropertyType (sum(xsd:decimal(?ead_mean)) as ?ead_mean)\n",
    "from <http://ensembleprojects.org/ds/floodrisk/property>\n",
    "from <http://ensembleprojects.org/graph/floodrisk/damage#0>\n",
    "where {\n",
    "    ?property pd:posttown \"NEWARK\" ;\n",
    "              pd:jbapropertyType ?jbapropertyType ;\n",
    "              pd:jbapropRef ?ref .\n",
    "    ?newProperty dpd:propRef ?ref ; \n",
    "                 dpd:ead_mean ?ead_mean .\n",
    "}\n",
    "group by ?jbapropertyType"
   ]
  },
  {
   "cell_type": "markdown",
   "metadata": {},
   "source": [
    "### EAD for Newark by Gauge Station"
   ]
  },
  {
   "cell_type": "code",
   "execution_count": 10,
   "metadata": {
    "scrolled": true
   },
   "outputs": [
    {
     "data": {
      "text/html": [
       "<div class=\"krn-spql\"><table><tr class=hdr><th>station_name</th>\n",
       "<th>ead_mean</th></tr><tr class=odd><td class=val>COLWICK</td>\n",
       "<td class=val>1256108.634237965</td></tr><tr class=even><td class=val>CHURCH WARSOP</td>\n",
       "<td class=val>16.45146409</td></tr><tr class=odd><td class=val>COLSTON BASSETT</td>\n",
       "<td class=val>2564.85756758</td></tr><tr class=even><td class=val>MANSFIELD, THE DYKES</td>\n",
       "<td class=val>223090.66940382</td></tr><tr class=odd><td class=val>TORKSEY</td>\n",
       "<td class=val>1096263.335348682</td></tr><tr class=even><td class=val>WHITEWATER BRIDGE</td>\n",
       "<td class=val>0</td></tr><tr class=odd><td class=val>NORTH MUSKHAM</td>\n",
       "<td class=val>412898.175655102</td></tr></table><div class=\"tinfo\">Total: 7, Shown: 7</div></div>"
      ]
     },
     "metadata": {},
     "output_type": "display_data"
    }
   ],
   "source": [
    "prefix pd:  <http://ensembleprojects.org/ds/ns/floodrisk/property_data#>\n",
    "prefix dpd: <http://ensembleprojects.org/ns/floodrisk/property_data#>\n",
    "prefix xsd: <http://www.w3.org/2001/XMLSchema#>\n",
    "\n",
    "select  ?station_name (sum(xsd:decimal(?ead_mean)) as ?ead_mean)\n",
    "from <http://ensembleprojects.org/ds/floodrisk/property>\n",
    "from <http://ensembleprojects.org/graph/floodrisk/damage#0>\n",
    "where {\n",
    "    ?property pd:posttown \"NEWARK\" ;\n",
    "              pd:station_name ?station_name ;\n",
    "              pd:jbapropRef ?ref .\n",
    "    ?newProperty dpd:propRef ?ref ; \n",
    "                 dpd:ead_mean ?ead_mean .\n",
    "}\n",
    "group by ?station_name"
   ]
  },
  {
   "cell_type": "markdown",
   "metadata": {},
   "source": [
    "### EAD for Newark by Flood Warning Areas"
   ]
  },
  {
   "cell_type": "code",
   "execution_count": 11,
   "metadata": {},
   "outputs": [
    {
     "data": {
      "text/html": [
       "<div class=\"krn-spql\"><table><tr class=hdr><th>fwa_name</th>\n",
       "<th>ead_mean</th></tr><tr class=odd><td class=val>River Trent at Newark Sugar Factory and Kelham Bridge</td>\n",
       "<td class=val>308321.160227831</td></tr><tr class=even><td class=val>River Trent at Spalford, Wigsley and Harby</td>\n",
       "<td class=val>326374.088458177</td></tr><tr class=odd><td class=val>River Trent at North Clifton and South Clifton</td>\n",
       "<td class=val>115532.653053804</td></tr><tr class=even><td class=val>River Maun at Haughton, Milton and West Drayton</td>\n",
       "<td class=val>0</td></tr><tr class=odd><td class=val>River Trent at South Muskham and Little Carlton</td>\n",
       "<td class=val>18637.454405115</td></tr><tr class=even><td class=val>River Trent at High Marnham and Low Marnham</td>\n",
       "<td class=val>349595.8988218</td></tr><tr class=odd><td class=val>River Maun at Clipstone, Edwinstowe and Ollerton</td>\n",
       "<td class=val>220077.043501829</td></tr><tr class=even><td class=val>River Trent at Farndon</td>\n",
       "<td class=val>140775.315202491</td></tr><tr class=odd><td class=val>River Trent at Fledborough and Ragnall</td>\n",
       "<td class=val>10278.691839636</td></tr><tr class=even><td class=val>River Trent at Besthorpe</td>\n",
       "<td class=val>67679.809504281</td></tr><tr class=odd><td class=val>River Trent at Holme</td>\n",
       "<td class=val>14524.56252194</td></tr><tr class=even><td class=val>River Trent at North Muskham</td>\n",
       "<td class=val>89825.986649927</td></tr><tr class=odd><td class=val>River Trent at Fiskerton Mill including Rolleston Fields, Gorse and Nurseries Area</td>\n",
       "<td class=val>29764.69070704</td></tr><tr class=even><td class=val>River Trent at Newark for Riverside Properties</td>\n",
       "<td class=val>81983.655063273</td></tr><tr class=odd><td class=val>River Trent at Cromwell</td>\n",
       "<td class=val>11668.865631929</td></tr><tr class=even><td class=val>River Trent at Newark Cattle Market</td>\n",
       "<td class=val>107104.15792969</td></tr><tr class=odd><td class=val>River Trent at Collingham</td>\n",
       "<td class=val>49648.829679161</td></tr><tr class=even><td class=val>River Trent at Newark</td>\n",
       "<td class=val>33542.695729566</td></tr><tr class=odd><td class=val>River Trent at Newark Tolney Lane</td>\n",
       "<td class=val>92497.764516003</td></tr><tr class=even><td class=val>River Trent at Dunham-on-Trent</td>\n",
       "<td class=val>72290.380891368</td></tr></table><div class=\"tinfo\">Total: 28, Shown: 20</div></div>"
      ]
     },
     "metadata": {},
     "output_type": "display_data"
    }
   ],
   "source": [
    "prefix pd:  <http://ensembleprojects.org/ds/ns/floodrisk/property_data#>\n",
    "prefix dpd: <http://ensembleprojects.org/ns/floodrisk/property_data#>\n",
    "prefix xsd: <http://www.w3.org/2001/XMLSchema#>\n",
    "\n",
    "select  ?fwa_name (sum(xsd:decimal(?ead_mean)) as ?ead_mean)\n",
    "from <http://ensembleprojects.org/ds/floodrisk/property>\n",
    "from <http://ensembleprojects.org/graph/floodrisk/damage#0>\n",
    "where {\n",
    "    ?property pd:posttown \"NEWARK\" ;\n",
    "              pd:fwa_name ?fwa_name ;\n",
    "              pd:jbapropRef ?ref .\n",
    "    ?newProperty dpd:propRef ?ref ; \n",
    "                 dpd:ead_mean ?ead_mean .\n",
    "}\n",
    "group by ?fwa_name"
   ]
  },
  {
   "cell_type": "markdown",
   "metadata": {},
   "source": [
    "### EAD for Newark by Flood Warning Zones"
   ]
  },
  {
   "cell_type": "code",
   "execution_count": 13,
   "metadata": {},
   "outputs": [
    {
     "data": {
      "text/html": [
       "<div class=\"krn-spql\"><table><tr class=hdr><th>fz1</th>\n",
       "<th>fz2</th>\n",
       "<th>fz3</th></tr><tr class=odd><td class=val>101109.694754546</td>\n",
       "<td class=val>2064070.925937557</td>\n",
       "<td class=val>825761.502985136</td></tr></table><div class=\"tinfo\">Total: 1, Shown: 1</div></div>"
      ]
     },
     "metadata": {},
     "output_type": "display_data"
    }
   ],
   "source": [
    "prefix pd:  <http://ensembleprojects.org/ds/ns/floodrisk/property_data#>\n",
    "prefix dpd: <http://ensembleprojects.org/ns/floodrisk/property_data#>\n",
    "prefix xsd: <http://www.w3.org/2001/XMLSchema#>\n",
    "\n",
    "select \n",
    "    (sum(xsd:decimal(?fz1)) as ?fz1) \n",
    "    (sum(xsd:decimal(?fz2)) as ?fz2)\n",
    "    (sum(xsd:decimal(?fz3)) as ?fz3)\n",
    "from <http://ensembleprojects.org/ds/floodrisk/property>\n",
    "from <http://ensembleprojects.org/graph/floodrisk/damage#0>\n",
    "where {\n",
    "    {\n",
    "        ?property pd:posttown \"NEWARK\" ;\n",
    "              pd:fz2 'NO';\n",
    "              pd:fz3 'YES';\n",
    "              pd:jbapropRef ?ref .\n",
    "        ?newProperty dpd:propRef ?ref ; \n",
    "                 dpd:ead_mean ?fz3 .        \n",
    "    }\n",
    "    union\n",
    "    {\n",
    "        ?property pd:posttown \"NEWARK\" ;\n",
    "              pd:fz2 'YES';\n",
    "              pd:fz3 'YES';\n",
    "              pd:jbapropRef ?ref .\n",
    "        ?newProperty dpd:propRef ?ref ; \n",
    "                 dpd:ead_mean ?fz2 .         \n",
    "    }\n",
    "    union\n",
    "    {\n",
    "        ?property pd:posttown \"NEWARK\" ;\n",
    "              pd:fz2 'NO';\n",
    "              pd:fz3 'NO';\n",
    "              pd:jbapropRef ?ref .\n",
    "        ?newProperty dpd:propRef ?ref ; \n",
    "                 dpd:ead_mean ?fz1 .         \n",
    "    }\n",
    "}\n"
   ]
  },
  {
   "cell_type": "markdown",
   "metadata": {},
   "source": [
    "### EAD for Newark by Model Study"
   ]
  },
  {
   "cell_type": "code",
   "execution_count": 14,
   "metadata": {},
   "outputs": [
    {
     "data": {
      "text/html": [
       "<div class=\"krn-spql\"><table><tr class=hdr><th>model</th>\n",
       "<th>ead_mean</th></tr><tr class=odd><td class=val>River Maun Flood Risk Mapping_ JBA_ March 2007</td>\n",
       "<td class=val>223090.66940382</td></tr><tr class=even><td class=val>Tidal Trent SFRM Model Fluvial Dominated_ Mott Macdonald_ 2015</td>\n",
       "<td class=val>1509161.511003784</td></tr><tr class=odd><td class=val>Flood Modelling of the River Smite_ JBA_ March 2012</td>\n",
       "<td class=val>2497.83865771</td></tr><tr class=even><td class=val>River Meden Flood Risk Mapping Study_ JBA_ June 2008</td>\n",
       "<td class=val>16.45146409</td></tr><tr class=odd><td class=val>River Trent and Tributaries SFRM2_ Halcrow_ July 2011</td>\n",
       "<td class=val>1256175.653147835</td></tr></table><div class=\"tinfo\">Total: 5, Shown: 5</div></div>"
      ]
     },
     "metadata": {},
     "output_type": "display_data"
    }
   ],
   "source": [
    "prefix pd:  <http://ensembleprojects.org/ds/ns/floodrisk/property_data#>\n",
    "prefix dpd: <http://ensembleprojects.org/ns/floodrisk/property_data#>\n",
    "prefix xsd: <http://www.w3.org/2001/XMLSchema#>\n",
    "\n",
    "select  ?model (sum(xsd:decimal(?ead_mean)) as ?ead_mean)\n",
    "from <http://ensembleprojects.org/ds/floodrisk/property>\n",
    "from <http://ensembleprojects.org/graph/floodrisk/damage#0>\n",
    "where {\n",
    "    ?property pd:posttown \"NEWARK\" ;\n",
    "              pd:model ?model ;\n",
    "              pd:jbapropRef ?ref .\n",
    "    ?newProperty dpd:propRef ?ref ; \n",
    "                 dpd:ead_mean ?ead_mean .\n",
    "}\n",
    "group by ?model"
   ]
  },
  {
   "cell_type": "markdown",
   "metadata": {},
   "source": [
    "### Estimation uncertainty - Onset of Flooding"
   ]
  },
  {
   "cell_type": "code",
   "execution_count": 15,
   "metadata": {},
   "outputs": [
    {
     "data": {
      "text/html": [
       "<div class=\"krn-spql\"><table><tr class=hdr><th>ead_mean_opt</th>\n",
       "<th>ead_mean_mid</th>\n",
       "<th>ead_mean_pess</th></tr><tr class=odd><td class=val>1453390.373576644</td>\n",
       "<td class=val>1601442.012214918</td>\n",
       "<td class=val>1796589.549775722</td></tr></table><div class=\"tinfo\">Total: 1, Shown: 1</div></div>"
      ]
     },
     "metadata": {},
     "output_type": "display_data"
    }
   ],
   "source": [
    "prefix pd:  <http://ensembleprojects.org/ds/ns/floodrisk/property_data#>\n",
    "prefix dpd: <http://ensembleprojects.org/ns/floodrisk/property_data#>\n",
    "prefix xsd: <http://www.w3.org/2001/XMLSchema#>\n",
    "\n",
    "select\n",
    "    (sum(xsd:decimal(?ead_mean_opt)) as ?ead_mean_opt)\n",
    "    (sum(xsd:decimal(?ead_mean_mid)) as ?ead_mean_mid)\n",
    "    (sum(xsd:decimal(?ead_mean_pess)) as ?ead_mean_pess)\n",
    "where {\n",
    "    graph <http://ensembleprojects.org/ds/floodrisk/property> {\n",
    "        ?property pd:posttown \"NEWARK\" .\n",
    "        ?property pd:jbapropRef ?jbapropRef\n",
    "    }\n",
    "    graph <http://ensembleprojects.org/graph/floodrisk/damage#0> {\n",
    "        ?newProperty dpd:propRef ?jbapropRef .\n",
    "        ?newProperty dpd:ead_mean ?ead_mean_opt .\n",
    "    }\n",
    "    graph <http://ensembleprojects.org/graph/floodrisk/damage#1> {\n",
    "        ?newProperty dpd:propRef ?jbapropRef .\n",
    "        ?newProperty dpd:ead_mean ?ead_mean_pess .\n",
    "    }\n",
    "    graph <http://ensembleprojects.org/graph/floodrisk/damage#2> {\n",
    "        ?newProperty dpd:propRef ?jbapropRef .\n",
    "        ?newProperty dpd:ead_mean ?ead_mean_mid .\n",
    "    }\n",
    "}"
   ]
  },
  {
   "cell_type": "markdown",
   "metadata": {},
   "source": [
    "### Estimation uncertainty - Truncation"
   ]
  },
  {
   "cell_type": "code",
   "execution_count": 16,
   "metadata": {},
   "outputs": [
    {
     "data": {
      "text/html": [
       "<div class=\"krn-spql\"><table><tr class=hdr><th>ead_mean_opt</th>\n",
       "<th>ead_mean_mid</th>\n",
       "<th>ead_mean_pess</th></tr><tr class=odd><td class=val>257677.332264288</td>\n",
       "<td class=val>429455.777522654</td>\n",
       "<td class=val>1281918.889129848</td></tr></table><div class=\"tinfo\">Total: 1, Shown: 1</div></div>"
      ]
     },
     "metadata": {},
     "output_type": "display_data"
    }
   ],
   "source": [
    "prefix pd:  <http://ensembleprojects.org/ds/ns/floodrisk/property_data#>\n",
    "prefix dpd: <http://ensembleprojects.org/ns/floodrisk/property_data#>\n",
    "prefix xsd: <http://www.w3.org/2001/XMLSchema#>\n",
    "\n",
    "select\n",
    "    (sum(xsd:decimal(?ead_mean_opt)) as ?ead_mean_opt)\n",
    "    (sum(xsd:decimal(?ead_mean_mid)) as ?ead_mean_mid)\n",
    "    (sum(xsd:decimal(?ead_mean_pess)) as ?ead_mean_pess)\n",
    "where {\n",
    "    graph <http://ensembleprojects.org/ds/floodrisk/property> {\n",
    "        ?property pd:posttown \"NEWARK\" .\n",
    "        ?property pd:jbapropRef ?jbapropRef\n",
    "    }\n",
    "    graph <http://ensembleprojects.org/graph/floodrisk/damage#5> {\n",
    "        ?newProperty dpd:propRef ?jbapropRef .\n",
    "        ?newProperty dpd:opt ?ead_mean_opt .\n",
    "        ?newProperty dpd:mid ?ead_mean_mid .\n",
    "        ?newProperty dpd:pess ?ead_mean_pess .\n",
    "    }\n",
    "}"
   ]
  },
  {
   "cell_type": "markdown",
   "metadata": {},
   "source": [
    "### Estimation uncertainty - Monte Carlo Simulation"
   ]
  },
  {
   "cell_type": "code",
   "execution_count": 17,
   "metadata": {},
   "outputs": [
    {
     "data": {
      "text/html": [
       "<div class=\"krn-spql\"><table><tr class=hdr><th>ead_mean</th>\n",
       "<th>ead_lowerTi</th>\n",
       "<th>ead_upperTi</th></tr><tr class=odd><td class=val>2473243.426798631</td>\n",
       "<td class=val>3426571.314660647</td>\n",
       "<td class=val>1498314.102514217</td></tr></table><div class=\"tinfo\">Total: 1, Shown: 1</div></div>"
      ]
     },
     "metadata": {},
     "output_type": "display_data"
    }
   ],
   "source": [
    "prefix pd:  <http://ensembleprojects.org/ds/ns/floodrisk/property_data#>\n",
    "prefix dpd: <http://ensembleprojects.org/ns/floodrisk/property_data#>\n",
    "prefix xsd: <http://www.w3.org/2001/XMLSchema#>\n",
    "\n",
    "select\n",
    "    (sum(xsd:decimal(?ead_mean)) as ?ead_mean)\n",
    "    (sum(xsd:decimal(?ead_lowerTi)) as ?ead_lowerTi)\n",
    "    (sum(xsd:decimal(?ead_upperTi)) as ?ead_upperTi)\n",
    "where {\n",
    "        graph <http://ensembleprojects.org/ds/floodrisk/property> {\n",
    "        ?property pd:posttown \"NEWARK\" .\n",
    "        ?property pd:jbapropRef ?jbapropRef\n",
    "    }\n",
    "    graph <http://ensembleprojects.org/graph/floodrisk/damage#3> {\n",
    "        ?newProperty dpd:propRef ?jbapropRef .\n",
    "        ?newProperty dpd:ead_mean ?ead_mean .\n",
    "        ?newProperty dpd:ead_lowerTi ?ead_lowerTi .\n",
    "        ?newProperty dpd:ead_upperTi ?ead_upperTi \n",
    "    }\n",
    "}"
   ]
  },
  {
   "cell_type": "markdown",
   "metadata": {},
   "source": [
    "### Observed Events - EAD for Colwick following observed event"
   ]
  },
  {
   "cell_type": "code",
   "execution_count": 18,
   "metadata": {},
   "outputs": [
    {
     "data": {
      "text/html": [
       "<div class=\"krn-spql\"><table><tr class=hdr><th>ead</th></tr><tr class=odd><td class=val>1171562.092572169</td></tr></table><div class=\"tinfo\">Total: 1, Shown: 1</div></div>"
      ]
     },
     "metadata": {},
     "output_type": "display_data"
    }
   ],
   "source": [
    "prefix pd:  <http://ensembleprojects.org/ds/ns/floodrisk/property_data#>\n",
    "prefix dpd: <http://ensembleprojects.org/ns/floodrisk/property_data#>\n",
    "prefix xsd: <http://www.w3.org/2001/XMLSchema#>\n",
    "\n",
    "select\n",
    "    (sum(xsd:decimal(?ead)) as ?ead)\n",
    "where {\n",
    "    graph <http://ensembleprojects.org/ds/floodrisk/property> {\n",
    "        ?property pd:posttown \"NEWARK\" .\n",
    "        ?property pd:station_name \"COLWICK\" .\n",
    "        ?property pd:jbapropRef ?jbapropRef\n",
    "    }\n",
    "    graph <http://ensembleprojects.org/graph/floodrisk/damage#4> {\n",
    "        ?newProperty dpd:propRef ?jbapropRef .\n",
    "        ?newProperty dpd:ead ?ead \n",
    "    }\n",
    "}"
   ]
  },
  {
   "cell_type": "markdown",
   "metadata": {},
   "source": [
    "### Observed Events - Metadata"
   ]
  },
  {
   "cell_type": "code",
   "execution_count": 20,
   "metadata": {},
   "outputs": [
    {
     "data": {
      "text/html": [
       "<div class=\"krn-spql\"><table><tr class=hdr><th>location</th>\n",
       "<th>rp</th>\n",
       "<th>properties</th>\n",
       "<th>source</th>\n",
       "<th>date</th></tr><tr class=odd><td class=val>Colwick</td>\n",
       "<td class=val>500</td>\n",
       "<td class=val>27603</td>\n",
       "<td class=val>http://www.itv.com/news/central/update/2012-11-27/river-trent-now-peaking-at-colwick-and-rising-in-gunthorpe/</td>\n",
       "<td class=val>27-Nov-12</td></tr></table><div class=\"tinfo\">Total: 1, Shown: 1</div></div>"
      ]
     },
     "metadata": {},
     "output_type": "display_data"
    }
   ],
   "source": [
    "prefix ed: <http://ensembleprojects.org/ns/floodrisk/event_data#>\n",
    "select ?location ?rp ?properties ?source ?date\n",
    "where {\n",
    "    graph <http://ensembleprojects.org/graph/floodrisk/events> {\n",
    "        ?s ed:location ?location ;\n",
    "           ed:rp ?rp ;\n",
    "           ed:properties ?properties ;\n",
    "           ed:url ?source ;\n",
    "           ed:date ?date .\n",
    "    }\n",
    "}"
   ]
  },
  {
   "cell_type": "markdown",
   "metadata": {},
   "source": [
    "### Observed Events - EAD from C@R data"
   ]
  },
  {
   "cell_type": "code",
   "execution_count": 23,
   "metadata": {},
   "outputs": [
    {
     "data": {
      "text/html": [
       "<div class=\"krn-spql\"><table><tr class=hdr><th>ead_mean</th></tr><tr class=odd><td class=val>1256108.634237965</td></tr></table><div class=\"tinfo\">Total: 1, Shown: 1</div></div>"
      ]
     },
     "metadata": {},
     "output_type": "display_data"
    }
   ],
   "source": [
    "prefix pd:  <http://ensembleprojects.org/ds/ns/floodrisk/property_data#>\n",
    "prefix dpd: <http://ensembleprojects.org/ns/floodrisk/property_data#>\n",
    "prefix xsd: <http://www.w3.org/2001/XMLSchema#>\n",
    "\n",
    "select  (sum(xsd:decimal(?ead_mean)) as ?ead_mean)\n",
    "from <http://ensembleprojects.org/ds/floodrisk/property>\n",
    "from <http://ensembleprojects.org/graph/floodrisk/damage#0>\n",
    "where {\n",
    "    ?property pd:posttown \"NEWARK\" .\n",
    "    ?property pd:station_name \"COLWICK\" .\n",
    "    ?property pd:jbapropRef ?ref .\n",
    "    ?newProperty dpd:propRef ?ref . \n",
    "    ?newProperty dpd:ead_mean ?ead_mean .\n",
    "}"
   ]
  },
  {
   "cell_type": "markdown",
   "metadata": {},
   "source": [
    "### Observed Events - Retrieve lat/long information from external source\n",
    "#### Requires sponging in virtuoso to import external rdf"
   ]
  },
  {
   "cell_type": "code",
   "execution_count": 26,
   "metadata": {},
   "outputs": [
    {
     "data": {
      "text/html": [
       "<div class=\"krn-spql\"><table><tr class=hdr><th>lat</th>\n",
       "<th>long</th>\n",
       "<th>label</th></tr><tr class=odd><td class=val>52.952707</td>\n",
       "<td class=val>-1.07772</td>\n",
       "<td class=val>Colwick</td></tr></table><div class=\"tinfo\">Total: 1, Shown: 1</div></div>"
      ]
     },
     "metadata": {},
     "output_type": "display_data"
    }
   ],
   "source": [
    "prefix gd:    <http://ensembleprojects.org/ds/ns/floodrisk/gauge_data#>\n",
    "prefix rt:    <http://environment.data.gov.uk/flood-monitoring/def/core/>\n",
    "prefix geo:   <http://www.w3.org/2003/01/geo/wgs84_pos#>\n",
    "\n",
    "select ?lat ?long ?label\n",
    "from <http://ensembleprojects.org/ds/floodrisk/gauge>\n",
    "from <http://ensembleprojects.org/ds/floodrisk/property>\n",
    "from <http://environment.data.gov.uk/flood-monitoring/id/stations.rdf>\n",
    "where {\n",
    "    ?local_gauge gd:station_name \"COLWICK\" ;\n",
    "       gd:site_reference ?site_reference .\n",
    "    ?ea_gauge rt:stationReference ?site_reference ;\n",
    "              geo:lat ?lat ;\n",
    "              geo:long ?long ;\n",
    "              rdfs:label ?label .\n",
    "}"
   ]
  },
  {
   "cell_type": "markdown",
   "metadata": {},
   "source": [
    "### Observed Events - Properties"
   ]
  },
  {
   "cell_type": "code",
   "execution_count": 28,
   "metadata": {},
   "outputs": [
    {
     "data": {
      "text/html": [
       "<div class=\"krn-spql\"><table><tr class=hdr><th>jbapropRef</th>\n",
       "<th>bngeast</th>\n",
       "<th>bngnorth</th></tr><tr class=odd><td class=val>33454</td>\n",
       "<td class=val>474244.929999999</td>\n",
       "<td class=val>352613.745</td></tr><tr class=even><td class=val>33455</td>\n",
       "<td class=val>476824.299999999</td>\n",
       "<td class=val>352307.599999999</td></tr><tr class=odd><td class=val>33456</td>\n",
       "<td class=val>475402.765</td>\n",
       "<td class=val>354125.19</td></tr><tr class=even><td class=val>33457</td>\n",
       "<td class=val>475376.424</td>\n",
       "<td class=val>354108.88</td></tr><tr class=odd><td class=val>33459</td>\n",
       "<td class=val>475348.495999999</td>\n",
       "<td class=val>354093.887999999</td></tr><tr class=even><td class=val>33460</td>\n",
       "<td class=val>475387.484</td>\n",
       "<td class=val>354048.435999999</td></tr><tr class=odd><td class=val>33516</td>\n",
       "<td class=val>474589.9</td>\n",
       "<td class=val>352964.299999999</td></tr><tr class=even><td class=val>33517</td>\n",
       "<td class=val>474533.9</td>\n",
       "<td class=val>352907.2</td></tr><tr class=odd><td class=val>33519</td>\n",
       "<td class=val>474562.299999999</td>\n",
       "<td class=val>352917.799999999</td></tr><tr class=even><td class=val>33520</td>\n",
       "<td class=val>474513.7</td>\n",
       "<td class=val>352782.099999999</td></tr><tr class=odd><td class=val>33521</td>\n",
       "<td class=val>474494.4</td>\n",
       "<td class=val>352757.2</td></tr><tr class=even><td class=val>33522</td>\n",
       "<td class=val>474468.799999999</td>\n",
       "<td class=val>352724.7</td></tr><tr class=odd><td class=val>33523</td>\n",
       "<td class=val>474577.5</td>\n",
       "<td class=val>352883.0</td></tr><tr class=even><td class=val>33524</td>\n",
       "<td class=val>474506.9</td>\n",
       "<td class=val>352773.099999999</td></tr><tr class=odd><td class=val>33525</td>\n",
       "<td class=val>474479.7</td>\n",
       "<td class=val>352742.9</td></tr><tr class=even><td class=val>33526</td>\n",
       "<td class=val>474411.7</td>\n",
       "<td class=val>352648.7</td></tr><tr class=odd><td class=val>33527</td>\n",
       "<td class=val>474358.7</td>\n",
       "<td class=val>352609.4</td></tr><tr class=even><td class=val>33528</td>\n",
       "<td class=val>474346.099999999</td>\n",
       "<td class=val>352584.799999999</td></tr><tr class=odd><td class=val>33529</td>\n",
       "<td class=val>474438.2</td>\n",
       "<td class=val>352680.4</td></tr><tr class=even><td class=val>33530</td>\n",
       "<td class=val>474457.2</td>\n",
       "<td class=val>352771.599999999</td></tr></table><div class=\"tinfo\">Total: 3793, Shown: 20</div></div>"
      ]
     },
     "metadata": {},
     "output_type": "display_data"
    }
   ],
   "source": [
    "prefix pd:  <http://ensembleprojects.org/ds/ns/floodrisk/property_data#>\n",
    "\n",
    "select  ?jbapropRef ?bngeast ?bngnorth\n",
    "from <http://ensembleprojects.org/ds/floodrisk/property>\n",
    "from <http://ensembleprojects.org/graph/floodrisk/damage#0>\n",
    "where {\n",
    "    ?property pd:posttown \"NEWARK\" ;\n",
    "              pd:station_name \"COLWICK\" ;\n",
    "              pd:jbapropRef ?jbapropRef ;\n",
    "              pd:bngeast ?bngeast ;\n",
    "              pd:bngnorth ?bngnorth .\n",
    "}"
   ]
  },
  {
   "cell_type": "markdown",
   "metadata": {},
   "source": [
    "### Observed Events - Property Details"
   ]
  },
  {
   "cell_type": "code",
   "execution_count": 29,
   "metadata": {},
   "outputs": [
    {
     "data": {
      "text/html": [
       "<div class=\"krn-spql\"><table><tr class=hdr><th>q2</th>\n",
       "<th>q5</th>\n",
       "<th>q10</th>\n",
       "<th>q20</th>\n",
       "<th>q50</th>\n",
       "<th>q75</th>\n",
       "<th>q100</th>\n",
       "<th>q200</th>\n",
       "<th>q1000</th></tr><tr class=odd><td class=val>0.0</td>\n",
       "<td class=val>0.0</td>\n",
       "<td class=val>0.0</td>\n",
       "<td class=val>0.0</td>\n",
       "<td class=val>1139968.73083049</td>\n",
       "<td class=val>1775996.88791137</td>\n",
       "<td class=val>2466205.28570519</td>\n",
       "<td class=val>3313052.09147486</td>\n",
       "<td class=val>6046394.02555208</td></tr></table><div class=\"tinfo\">Total: 1, Shown: 1</div></div>"
      ]
     },
     "metadata": {},
     "output_type": "display_data"
    }
   ],
   "source": [
    "prefix pd:  <http://ensembleprojects.org/ds/ns/floodrisk/property_data#>\n",
    "\n",
    "select  ?q2 ?q5 ?q10 ?q20 ?q50 ?q75 ?q100 ?q200 ?q1000\n",
    "from <http://ensembleprojects.org/ds/floodrisk/property>\n",
    "from <http://ensembleprojects.org/graph/floodrisk/damage#0>\n",
    "where {\n",
    "    ?s pd:jbapropRef '51183' ;\n",
    "       pd:q2_existingDamageMean ?q2 ;\n",
    "       pd:q5_existingDamagelMean ?q5 ;\n",
    "       pd:q10_existingDamageMean ?q10 ;\n",
    "       pd:q20_existingDamageMean ?q20 ;\n",
    "       pd:q50_existingDamageMean ?q50 ;\n",
    "       pd:q75_existingDamageMean ?q75 ;\n",
    "       pd:q100_existingDamageMean ?q100 ;\n",
    "       pd:q200_existingDamageMean ?q200 ;\n",
    "       pd:q1000_existingDamagelMean ?q1000 \n",
    "}"
   ]
  },
  {
   "cell_type": "code",
   "execution_count": 31,
   "metadata": {},
   "outputs": [
    {
     "data": {
      "text/html": [
       "<div class=\"krn-spql\"><table><tr class=hdr><th>station_name</th>\n",
       "<th>site_reference</th></tr><tr class=odd><td class=val></td>\n",
       "<td class=val>4009</td></tr></table><div class=\"tinfo\">Total: 1, Shown: 1</div></div>"
      ]
     },
     "metadata": {},
     "output_type": "display_data"
    }
   ],
   "source": [
    "prefix gd: <http://ensembleprojects.org/ds/ns/floodrisk/gauge_data#>\n",
    "\n",
    "select distinct ?station_name ?site_reference\n",
    "from <http://ensembleprojects.org/ds/floodrisk/gauge>\n",
    "where {\n",
    "    ?s gd:station_name \"COLWICK\" ;\n",
    "       gd:site_reference ?site_reference .\n",
    "}"
   ]
  },
  {
   "cell_type": "code",
   "execution_count": 36,
   "metadata": {},
   "outputs": [
    {
     "data": {
      "text/html": [
       "<div class=\"krn-spql\"><table><tr class=hdr><th>Q0</th>\n",
       "<th>Q2</th>\n",
       "<th>Q5</th>\n",
       "<th>Q10</th>\n",
       "<th>Q20</th>\n",
       "<th>Q50</th>\n",
       "<th>Q75</th>\n",
       "<th>Q100</th>\n",
       "<th>Q200</th>\n",
       "<th>Q1000</th></tr><tr class=odd><td class=val>0</td>\n",
       "<td class=val>0</td>\n",
       "<td class=val>1430415.062099</td>\n",
       "<td class=val>2168399.5036623</td>\n",
       "<td class=val>6170094.2396902</td>\n",
       "<td class=val>18383813.3352737</td>\n",
       "<td class=val>25917613.3831777</td>\n",
       "<td class=val>35028845.4599298</td>\n",
       "<td class=val>89042454.0833494</td>\n",
       "<td class=val>258376206.4394606</td></tr></table><div class=\"tinfo\">Total: 1, Shown: 1</div></div>"
      ]
     },
     "metadata": {},
     "output_type": "display_data"
    }
   ],
   "source": [
    "prefix pd:  <http://ensembleprojects.org/ds/ns/floodrisk/property_data#>\n",
    "prefix dpd: <http://ensembleprojects.org/ns/floodrisk/property_data#>\n",
    "prefix xsd: <http://www.w3.org/2001/XMLSchema#>\n",
    "\n",
    "select\n",
    "    (sum(xsd:decimal(?q0)) as ?Q0)\n",
    "    (sum(xsd:decimal(?q2)) as ?Q2)\n",
    "    (sum(xsd:decimal(?q5)) as ?Q5)\n",
    "    (sum(xsd:decimal(?q10)) as ?Q10)\n",
    "    (sum(xsd:decimal(?q20)) as ?Q20)\n",
    "    (sum(xsd:decimal(?q50)) as ?Q50)\n",
    "    (sum(xsd:decimal(?q75)) as ?Q75)\n",
    "    (sum(xsd:decimal(?q100)) as ?Q100)\n",
    "    (sum(xsd:decimal(?q200)) as ?Q200)\n",
    "    (sum(xsd:decimal(?q1000)) as ?Q1000)\n",
    "from <http://ensembleprojects.org/ds/floodrisk/property>\n",
    "from <http://ensembleprojects.org/graph/floodrisk/property#0>\n",
    "where {\n",
    "    ?property pd:posttown \"NEWARK\" ;\n",
    "              pd:jbapropRef ?ref .\n",
    "    ?newProperty dpd:propRef ?ref ; \n",
    "                 dpd:q0 ?q0 ;\n",
    "                 dpd:q2 ?q2 ;\n",
    "                 dpd:q5 ?q5 ;\n",
    "                 dpd:q10 ?q10 ;\n",
    "                 dpd:q20 ?q20 ;\n",
    "                 dpd:q50 ?q50 ;\n",
    "                 dpd:q75 ?q75 ;\n",
    "                 dpd:q100 ?q100 ;\n",
    "                 dpd:q200 ?q200 ;\n",
    "                 dpd:q1000 ?q1000 .\n",
    "}"
   ]
  }
 ],
 "metadata": {
  "kernelspec": {
   "display_name": "SPARQL",
   "language": "",
   "name": "sparql"
  },
  "language_info": {
   "codemirror_mode": {
    "name": "sparql"
   },
   "mimetype": "application/sparql-query",
   "name": "sparql",
   "pygments_lexer": "sparql-nb"
  }
 },
 "nbformat": 4,
 "nbformat_minor": 2
}
