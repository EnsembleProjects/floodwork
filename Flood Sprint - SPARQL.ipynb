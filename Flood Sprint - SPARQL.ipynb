{
 "cells": [
  {
   "cell_type": "markdown",
   "metadata": {},
   "source": [
    "## RISK ANALYSIS - SPARQL"
   ]
  },
  {
   "cell_type": "markdown",
   "metadata": {},
   "source": [
    "### What is the flood risk in Newark? \n",
    "As a flood risk manager, I want to understand the flood risk of Newark and the associated uncertainties. This flood risk assessment should combine information from all available data sources. Any inconsistencies in the modelling assumption should be made visible as well potential intervention strategies to reduce and mitigate flood risk.\n",
    "### Questions of interest\n",
    "__Damage Estimation__\n",
    "* What is the expected annual damage for Newark?\n",
    "* How are the damages separated by certain confounding factors?\n",
    ">* Type of property\n",
    ">* Gauges for which the properties are linked \n",
    ">* Flood warning areas\n",
    ">* Time of the modelling studies used in the damage estimations\n",
    "* How do the estimates vary through considering a number of different estimation techniques and uncertainties?\n",
    ">* Interpolation schemes \n",
    ">* Different assumptions\n",
    ">>* Onset of flooding\n",
    ">> * Truncation error\n",
    ">> * Uncertainty \t\n",
    "* Flood Defence Schemes (Cost Benefit Analysis)\n",
    ">* How much savings would flood defences with particular design criteria (protection to a particular return period) save? \n",
    ">* Since the hydraulic model was run, have any new flood defences been installed? \n",
    ">* Are there any proposed flood defence schemes in Newark? Does this analysis suggest that the flood defence is financially justified? \n",
    "* Observed Events\n",
    ">* Can retrieve information about these events from Section 19 reports or from other sources? \n",
    ">* Can we retrieve estimates of the return period and estimates of the damage of these observed event\n",
    ">>* Can this unstructured information provide additional information in the calculation of the expected annual damage\n",
    ">>* Is this new observed event greater than the design events considered in the hydraulic model? If so highlight the models that need to be rerun \n",
    "* Provenance of Models \n",
    ">* If a model is out of date, there should be the option to re run the model (it is unlikely that we will have the time to implement but we could produce a guided example through using the open source software HEC-RAS)\n",
    ">* If two potential models exist for the same location (this currently does not exist in the Communities at Risk data set), the query should reveal the differences between the two models and reveal the provenance of a particular model \n",
    "* How do I want the results to be presented?\n",
    ">* Where possible all results should be presented spatially? \n",
    ">* All possible available metadata should be returned along with the assumptions made in the damage calculations \n",
    ">* Possible interventions strategies to reduce flood risk should be suggested with supporting evidence \n",
    ">* Any models that might be out of date should be highlighted "
   ]
  },
  {
   "cell_type": "markdown",
   "metadata": {},
   "source": [
    "### Setup SPARQL parameters for triple store and data formatting"
   ]
  },
  {
   "cell_type": "code",
   "execution_count": 1,
   "metadata": {
    "scrolled": true
   },
   "outputs": [
    {
     "data": {
      "text/html": [
       "<div class=\"krn-spql\"><div class=\"magic\">Endpoint set to: http://localhost:8890/sparql/</div><div class=\"magic\">Return format: JSON</div><div class=\"magic\">Display: table</div></div>"
      ],
      "text/plain": [
       "Endpoint set to: http://localhost:8890/sparql/\n",
       "Return format: JSON\n",
       "Display: table\n"
      ]
     },
     "metadata": {},
     "output_type": "display_data"
    }
   ],
   "source": [
    "%endpoint http://localhost:8890/sparql/\n",
    "%format JSON\n",
    "%display table"
   ]
  },
  {
   "cell_type": "code",
   "execution_count": 2,
   "metadata": {},
   "outputs": [
    {
     "data": {
      "text/html": [
       "<div class=\"krn-spql\"><table><tr class=hdr><th>postTown</th>\n",
       "<th>lat</th>\n",
       "<th>long</th>\n",
       "<th>comment</th>\n",
       "<th>population</th></tr><tr class=odd><td class=val>NEWARK</td>\n",
       "<td class=val>53.0765</td>\n",
       "<td class=val>-0.81</td>\n",
       "<td class=val>Newark-on-Trent or Newark /ˈnjuːək/ is a market town in Nottinghamshire in the East Midlands of England. It stands on the River Trent, the A1 (on the route of the ancient Great North Road), and the East Coast Main Line railway. The origins of the town are possibly Roman as it lies on an important Roman road, the Fosse Way. The town grew around Newark Castle, now ruined, and a large marketplace, now lined with historic buildings, and was a centre for the wool and cloth trade. In the English Civil War, it was besieged by Parliamentary forces and had to be relieved by Prince Rupert in a battle known as the Relief of Newark.</td>\n",
       "<td class=val>27700</td></tr></table><div class=\"tinfo\">Total: 1, Shown: 1</div></div>"
      ]
     },
     "metadata": {},
     "output_type": "display_data"
    }
   ],
   "source": [
    "prefix rdfs: <http://www.w3.org/2000/01/rdf-schema#>\n",
    "prefix dbp: <http://dbpedia.org/property/>\n",
    "prefix dbo: <http://dbpedia.org/ontology/>\n",
    "prefix dbr: <http://dbpedia.org/resource/>\n",
    "\n",
    "select distinct  ?postTown ?lat ?long ?comment ?population\n",
    "where  { \n",
    "    service <http://dbpedia.org/sparql/> {\n",
    "        dbr:Newark-on-Trent dbp:postTown ?postTown ;\n",
    "                            dbp:latitude ?lat ;\n",
    "                            dbp:longitude ?long ;\n",
    "                            rdfs:comment ?comment ;\n",
    "                            dbo:populationTotal ?population .\n",
    "        filter langMatches(lang(?comment),\"en\")\n",
    "    }\n",
    "}"
   ]
  },
  {
   "cell_type": "code",
   "execution_count": null,
   "metadata": {},
   "outputs": [],
   "source": [
    "prefix pd:  <http://ensembleprojects.org/ns/floodrisk/property_data#>\n",
    "prefix xsd: <http://www.w3.org/2001/XMLSchema#>\n",
    "\n",
    "select  (sum(xsd:decimal(?ead_mean)) as ?ead_mean)\n",
    "from <http://ensembleprojects.org/floodrisk/property>\n",
    "from <http://ensembleprojects.org/graph/floodrisk/damage#0>\n",
    "where {\n",
    "    ?property pd:posttown \"NEWARK\" .\n",
    "    ?property pd:jbapropRef ?ref .\n",
    "    ?newProperty pd:propRef ?ref . \n",
    "    ?newProperty pd:ead_mean ?ead_mean .\n",
    "}"
   ]
  },
  {
   "cell_type": "code",
   "execution_count": 6,
   "metadata": {},
   "outputs": [
    {
     "data": {
      "text/html": [
       "<div class=\"krn-spql\"><table><tr class=hdr><th>s</th>\n",
       "<th>o</th>\n",
       "<th>p</th></tr><tr class=odd><td class=val><a href=\"http://www.openlinksw.com/virtrdf-data-formats#default-iid\" target=\"_other\">http://www.openlinksw.com/virtrdf-data-formats#default-iid</a></td>\n",
       "<td class=val><a href=\"http://www.w3.org/1999/02/22-rdf-syntax-ns#type\" target=\"_other\">http://www.w3.org/1999/02/22-rdf-syntax-ns#type</a></td>\n",
       "<td class=val><a href=\"http://www.openlinksw.com/schemas/virtrdf#QuadMapFormat\" target=\"_other\">http://www.openlinksw.com/schemas/virtrdf#QuadMapFormat</a></td></tr><tr class=even><td class=val><a href=\"http://www.openlinksw.com/virtrdf-data-formats#default-iid-nullable\" target=\"_other\">http://www.openlinksw.com/virtrdf-data-formats#default-iid-nullable</a></td>\n",
       "<td class=val><a href=\"http://www.w3.org/1999/02/22-rdf-syntax-ns#type\" target=\"_other\">http://www.w3.org/1999/02/22-rdf-syntax-ns#type</a></td>\n",
       "<td class=val><a href=\"http://www.openlinksw.com/schemas/virtrdf#QuadMapFormat\" target=\"_other\">http://www.openlinksw.com/schemas/virtrdf#QuadMapFormat</a></td></tr><tr class=odd><td class=val><a href=\"http://www.openlinksw.com/virtrdf-data-formats#default-iid-nonblank\" target=\"_other\">http://www.openlinksw.com/virtrdf-data-formats#default-iid-nonblank</a></td>\n",
       "<td class=val><a href=\"http://www.w3.org/1999/02/22-rdf-syntax-ns#type\" target=\"_other\">http://www.w3.org/1999/02/22-rdf-syntax-ns#type</a></td>\n",
       "<td class=val><a href=\"http://www.openlinksw.com/schemas/virtrdf#QuadMapFormat\" target=\"_other\">http://www.openlinksw.com/schemas/virtrdf#QuadMapFormat</a></td></tr><tr class=even><td class=val><a href=\"http://www.openlinksw.com/virtrdf-data-formats#default-iid-nonblank-nullable\" target=\"_other\">http://www.openlinksw.com/virtrdf-data-formats#default-iid-nonblank-nullable</a></td>\n",
       "<td class=val><a href=\"http://www.w3.org/1999/02/22-rdf-syntax-ns#type\" target=\"_other\">http://www.w3.org/1999/02/22-rdf-syntax-ns#type</a></td>\n",
       "<td class=val><a href=\"http://www.openlinksw.com/schemas/virtrdf#QuadMapFormat\" target=\"_other\">http://www.openlinksw.com/schemas/virtrdf#QuadMapFormat</a></td></tr><tr class=odd><td class=val><a href=\"http://www.openlinksw.com/virtrdf-data-formats#default\" target=\"_other\">http://www.openlinksw.com/virtrdf-data-formats#default</a></td>\n",
       "<td class=val><a href=\"http://www.w3.org/1999/02/22-rdf-syntax-ns#type\" target=\"_other\">http://www.w3.org/1999/02/22-rdf-syntax-ns#type</a></td>\n",
       "<td class=val><a href=\"http://www.openlinksw.com/schemas/virtrdf#QuadMapFormat\" target=\"_other\">http://www.openlinksw.com/schemas/virtrdf#QuadMapFormat</a></td></tr><tr class=even><td class=val><a href=\"http://www.openlinksw.com/virtrdf-data-formats#default-nullable\" target=\"_other\">http://www.openlinksw.com/virtrdf-data-formats#default-nullable</a></td>\n",
       "<td class=val><a href=\"http://www.w3.org/1999/02/22-rdf-syntax-ns#type\" target=\"_other\">http://www.w3.org/1999/02/22-rdf-syntax-ns#type</a></td>\n",
       "<td class=val><a href=\"http://www.openlinksw.com/schemas/virtrdf#QuadMapFormat\" target=\"_other\">http://www.openlinksw.com/schemas/virtrdf#QuadMapFormat</a></td></tr><tr class=odd><td class=val><a href=\"http://www.openlinksw.com/virtrdf-data-formats#sql-varchar\" target=\"_other\">http://www.openlinksw.com/virtrdf-data-formats#sql-varchar</a></td>\n",
       "<td class=val><a href=\"http://www.w3.org/1999/02/22-rdf-syntax-ns#type\" target=\"_other\">http://www.w3.org/1999/02/22-rdf-syntax-ns#type</a></td>\n",
       "<td class=val><a href=\"http://www.openlinksw.com/schemas/virtrdf#QuadMapFormat\" target=\"_other\">http://www.openlinksw.com/schemas/virtrdf#QuadMapFormat</a></td></tr><tr class=even><td class=val><a href=\"http://www.openlinksw.com/virtrdf-data-formats#sql-varchar-nullable\" target=\"_other\">http://www.openlinksw.com/virtrdf-data-formats#sql-varchar-nullable</a></td>\n",
       "<td class=val><a href=\"http://www.w3.org/1999/02/22-rdf-syntax-ns#type\" target=\"_other\">http://www.w3.org/1999/02/22-rdf-syntax-ns#type</a></td>\n",
       "<td class=val><a href=\"http://www.openlinksw.com/schemas/virtrdf#QuadMapFormat\" target=\"_other\">http://www.openlinksw.com/schemas/virtrdf#QuadMapFormat</a></td></tr><tr class=odd><td class=val><a href=\"http://www.openlinksw.com/virtrdf-data-formats#sql-varchar-dt\" target=\"_other\">http://www.openlinksw.com/virtrdf-data-formats#sql-varchar-dt</a></td>\n",
       "<td class=val><a href=\"http://www.w3.org/1999/02/22-rdf-syntax-ns#type\" target=\"_other\">http://www.w3.org/1999/02/22-rdf-syntax-ns#type</a></td>\n",
       "<td class=val><a href=\"http://www.openlinksw.com/schemas/virtrdf#QuadMapFormat\" target=\"_other\">http://www.openlinksw.com/schemas/virtrdf#QuadMapFormat</a></td></tr><tr class=even><td class=val><a href=\"http://www.openlinksw.com/virtrdf-data-formats#sql-varchar-dt-nullable\" target=\"_other\">http://www.openlinksw.com/virtrdf-data-formats#sql-varchar-dt-nullable</a></td>\n",
       "<td class=val><a href=\"http://www.w3.org/1999/02/22-rdf-syntax-ns#type\" target=\"_other\">http://www.w3.org/1999/02/22-rdf-syntax-ns#type</a></td>\n",
       "<td class=val><a href=\"http://www.openlinksw.com/schemas/virtrdf#QuadMapFormat\" target=\"_other\">http://www.openlinksw.com/schemas/virtrdf#QuadMapFormat</a></td></tr><tr class=odd><td class=val><a href=\"http://www.openlinksw.com/virtrdf-data-formats#sql-varchar-lang\" target=\"_other\">http://www.openlinksw.com/virtrdf-data-formats#sql-varchar-lang</a></td>\n",
       "<td class=val><a href=\"http://www.w3.org/1999/02/22-rdf-syntax-ns#type\" target=\"_other\">http://www.w3.org/1999/02/22-rdf-syntax-ns#type</a></td>\n",
       "<td class=val><a href=\"http://www.openlinksw.com/schemas/virtrdf#QuadMapFormat\" target=\"_other\">http://www.openlinksw.com/schemas/virtrdf#QuadMapFormat</a></td></tr><tr class=even><td class=val><a href=\"http://www.openlinksw.com/virtrdf-data-formats#sql-varchar-lang-nullable\" target=\"_other\">http://www.openlinksw.com/virtrdf-data-formats#sql-varchar-lang-nullable</a></td>\n",
       "<td class=val><a href=\"http://www.w3.org/1999/02/22-rdf-syntax-ns#type\" target=\"_other\">http://www.w3.org/1999/02/22-rdf-syntax-ns#type</a></td>\n",
       "<td class=val><a href=\"http://www.openlinksw.com/schemas/virtrdf#QuadMapFormat\" target=\"_other\">http://www.openlinksw.com/schemas/virtrdf#QuadMapFormat</a></td></tr><tr class=odd><td class=val><a href=\"http://www.openlinksw.com/virtrdf-data-formats#sql-varchar-fixedlang-x-any\" target=\"_other\">http://www.openlinksw.com/virtrdf-data-formats#sql-varchar-fixedlang-x-any</a></td>\n",
       "<td class=val><a href=\"http://www.w3.org/1999/02/22-rdf-syntax-ns#type\" target=\"_other\">http://www.w3.org/1999/02/22-rdf-syntax-ns#type</a></td>\n",
       "<td class=val><a href=\"http://www.openlinksw.com/schemas/virtrdf#QuadMapFormat\" target=\"_other\">http://www.openlinksw.com/schemas/virtrdf#QuadMapFormat</a></td></tr><tr class=even><td class=val><a href=\"http://www.openlinksw.com/virtrdf-data-formats#sql-varchar-fixedlang-x-any-nullable\" target=\"_other\">http://www.openlinksw.com/virtrdf-data-formats#sql-varchar-fixedlang-x-any-nullable</a></td>\n",
       "<td class=val><a href=\"http://www.w3.org/1999/02/22-rdf-syntax-ns#type\" target=\"_other\">http://www.w3.org/1999/02/22-rdf-syntax-ns#type</a></td>\n",
       "<td class=val><a href=\"http://www.openlinksw.com/schemas/virtrdf#QuadMapFormat\" target=\"_other\">http://www.openlinksw.com/schemas/virtrdf#QuadMapFormat</a></td></tr><tr class=odd><td class=val><a href=\"http://www.openlinksw.com/virtrdf-data-formats#sql-varchar-uri\" target=\"_other\">http://www.openlinksw.com/virtrdf-data-formats#sql-varchar-uri</a></td>\n",
       "<td class=val><a href=\"http://www.w3.org/1999/02/22-rdf-syntax-ns#type\" target=\"_other\">http://www.w3.org/1999/02/22-rdf-syntax-ns#type</a></td>\n",
       "<td class=val><a href=\"http://www.openlinksw.com/schemas/virtrdf#QuadMapFormat\" target=\"_other\">http://www.openlinksw.com/schemas/virtrdf#QuadMapFormat</a></td></tr><tr class=even><td class=val><a href=\"http://www.openlinksw.com/virtrdf-data-formats#sql-varchar-uri-nullable\" target=\"_other\">http://www.openlinksw.com/virtrdf-data-formats#sql-varchar-uri-nullable</a></td>\n",
       "<td class=val><a href=\"http://www.w3.org/1999/02/22-rdf-syntax-ns#type\" target=\"_other\">http://www.w3.org/1999/02/22-rdf-syntax-ns#type</a></td>\n",
       "<td class=val><a href=\"http://www.openlinksw.com/schemas/virtrdf#QuadMapFormat\" target=\"_other\">http://www.openlinksw.com/schemas/virtrdf#QuadMapFormat</a></td></tr><tr class=odd><td class=val><a href=\"http://www.openlinksw.com/virtrdf-data-formats#sql-varchar-literal\" target=\"_other\">http://www.openlinksw.com/virtrdf-data-formats#sql-varchar-literal</a></td>\n",
       "<td class=val><a href=\"http://www.w3.org/1999/02/22-rdf-syntax-ns#type\" target=\"_other\">http://www.w3.org/1999/02/22-rdf-syntax-ns#type</a></td>\n",
       "<td class=val><a href=\"http://www.openlinksw.com/schemas/virtrdf#QuadMapFormat\" target=\"_other\">http://www.openlinksw.com/schemas/virtrdf#QuadMapFormat</a></td></tr><tr class=even><td class=val><a href=\"http://www.openlinksw.com/virtrdf-data-formats#sql-varchar-literal-nullable\" target=\"_other\">http://www.openlinksw.com/virtrdf-data-formats#sql-varchar-literal-nullable</a></td>\n",
       "<td class=val><a href=\"http://www.w3.org/1999/02/22-rdf-syntax-ns#type\" target=\"_other\">http://www.w3.org/1999/02/22-rdf-syntax-ns#type</a></td>\n",
       "<td class=val><a href=\"http://www.openlinksw.com/schemas/virtrdf#QuadMapFormat\" target=\"_other\">http://www.openlinksw.com/schemas/virtrdf#QuadMapFormat</a></td></tr><tr class=odd><td class=val><a href=\"http://www.openlinksw.com/virtrdf-data-formats#sql-longvarchar\" target=\"_other\">http://www.openlinksw.com/virtrdf-data-formats#sql-longvarchar</a></td>\n",
       "<td class=val><a href=\"http://www.w3.org/1999/02/22-rdf-syntax-ns#type\" target=\"_other\">http://www.w3.org/1999/02/22-rdf-syntax-ns#type</a></td>\n",
       "<td class=val><a href=\"http://www.openlinksw.com/schemas/virtrdf#QuadMapFormat\" target=\"_other\">http://www.openlinksw.com/schemas/virtrdf#QuadMapFormat</a></td></tr><tr class=even><td class=val><a href=\"http://www.openlinksw.com/virtrdf-data-formats#sql-longvarchar-nullable\" target=\"_other\">http://www.openlinksw.com/virtrdf-data-formats#sql-longvarchar-nullable</a></td>\n",
       "<td class=val><a href=\"http://www.w3.org/1999/02/22-rdf-syntax-ns#type\" target=\"_other\">http://www.w3.org/1999/02/22-rdf-syntax-ns#type</a></td>\n",
       "<td class=val><a href=\"http://www.openlinksw.com/schemas/virtrdf#QuadMapFormat\" target=\"_other\">http://www.openlinksw.com/schemas/virtrdf#QuadMapFormat</a></td></tr></table><div class=\"tinfo\">Total: 5615, Shown: 20</div></div>"
      ]
     },
     "metadata": {},
     "output_type": "display_data"
    }
   ],
   "source": [
    "select ?s ?o ?p\n",
    "where {\n",
    "    ?s ?o ?p .\n",
    "}"
   ]
  },
  {
   "cell_type": "markdown",
   "metadata": {},
   "source": [
    "### EAD for Newark"
   ]
  },
  {
   "cell_type": "code",
   "execution_count": 3,
   "metadata": {},
   "outputs": [
    {
     "data": {
      "text/html": [
       "<div class=\"krn-spql\"><table><tr class=hdr><th>ead_mean</th></tr><tr class=odd><td class=val></td></tr></table><div class=\"tinfo\">Total: 1, Shown: 1</div></div>"
      ]
     },
     "metadata": {},
     "output_type": "display_data"
    }
   ],
   "source": [
    "prefix pd:  <http://ensembleprojects.org/ns/floodrisk/property_data#>\n",
    "prefix xsd: <http://www.w3.org/2001/XMLSchema#>\n",
    "\n",
    "select  (sum(xsd:decimal(?ead_mean)) as ?ead_mean)\n",
    "from <http://ensembleprojects.org/floodrisk/property>\n",
    "from <http://ensembleprojects.org/graph/floodrisk/damage#0>\n",
    "where {\n",
    "    ?property pd:posttown \"NEWARK\" .\n",
    "    ?property pd:jbapropRef ?ref .\n",
    "    ?newProperty pd:propRef ?ref . \n",
    "    ?newProperty pd:ead_mean ?ead_mean .\n",
    "}\n"
   ]
  },
  {
   "cell_type": "markdown",
   "metadata": {},
   "source": [
    "### EAD for Newark by Property Type"
   ]
  },
  {
   "cell_type": "code",
   "execution_count": 4,
   "metadata": {},
   "outputs": [
    {
     "data": {
      "text/html": [
       "<div class=\"krn-spql\"><table><tr class=hdr><th>jbapropertyType</th>\n",
       "<th>ead_mean</th></tr></table><div class=\"tinfo\">Total: 0, Shown: 0</div></div>"
      ]
     },
     "metadata": {},
     "output_type": "display_data"
    }
   ],
   "source": [
    "prefix pd:  <http://ensembleprojects.org/ns/floodrisk/property_data#>\n",
    "prefix xsd: <http://www.w3.org/2001/XMLSchema#>\n",
    "\n",
    "select  ?jbapropertyType (sum(xsd:decimal(?ead_mean)) as ?ead_mean)\n",
    "from <http://ensembleprojects.org/floodrisk/property>\n",
    "from <http://ensembleprojects.org/graph/floodrisk/damage#0>\n",
    "where {\n",
    "    ?property pd:posttown \"NEWARK\" ;\n",
    "              pd:jbapropertyType ?jbapropertyType ;\n",
    "              pd:jbapropRef ?ref .\n",
    "    ?newProperty pd:propRef ?ref ; \n",
    "                 pd:ead_mean ?ead_mean .\n",
    "}\n",
    "group by ?jbapropertyType"
   ]
  },
  {
   "cell_type": "markdown",
   "metadata": {},
   "source": [
    "### EAD for Newark by Gauge Station"
   ]
  },
  {
   "cell_type": "code",
   "execution_count": 9,
   "metadata": {
    "scrolled": true
   },
   "outputs": [
    {
     "data": {
      "text/html": [
       "<div class=\"krn-spql\"><table><tr class=hdr><th>station_name</th>\n",
       "<th>ead_mean</th></tr><tr class=odd><td class=val>NORTH MUSKHAM</td>\n",
       "<td class=val>412898.175655102</td></tr><tr class=even><td class=val>COLSTON BASSETT</td>\n",
       "<td class=val>2564.85756758</td></tr><tr class=odd><td class=val>WHITEWATER BRIDGE</td>\n",
       "<td class=val>0</td></tr><tr class=even><td class=val>TORKSEY</td>\n",
       "<td class=val>1096263.335348682</td></tr><tr class=odd><td class=val>COLWICK</td>\n",
       "<td class=val>1256108.634237965</td></tr><tr class=even><td class=val>MANSFIELD, THE DYKES</td>\n",
       "<td class=val>223090.66940382</td></tr><tr class=odd><td class=val>CHURCH WARSOP</td>\n",
       "<td class=val>16.45146409</td></tr></table><div class=\"tinfo\">Total: 7, Shown: 7</div></div>"
      ]
     },
     "metadata": {},
     "output_type": "display_data"
    }
   ],
   "source": [
    "prefix pd:  <http://ensembleprojects.org/ns/floodrisk/property_data#>\n",
    "prefix xsd: <http://www.w3.org/2001/XMLSchema#>\n",
    "\n",
    "select  ?station_name (sum(xsd:decimal(?ead_mean)) as ?ead_mean)\n",
    "from <http://ensembleprojects.org/floodrisk/property>\n",
    "from <http://ensembleprojects.org/graph/floodrisk/damage#0>\n",
    "where {\n",
    "    ?property pd:posttown \"NEWARK\" ;\n",
    "              pd:station_name ?station_name ;\n",
    "              pd:jbapropRef ?ref .\n",
    "    ?newProperty pd:propRef ?ref ; \n",
    "                 pd:ead_mean ?ead_mean .\n",
    "}\n",
    "group by ?station_name"
   ]
  },
  {
   "cell_type": "markdown",
   "metadata": {},
   "source": [
    "### EAD for Newark by Flood Warning Areas"
   ]
  },
  {
   "cell_type": "code",
   "execution_count": null,
   "metadata": {},
   "outputs": [],
   "source": [
    "prefix pd:  <http://ensembleprojects.org/ns/floodrisk/property_data#>\n",
    "prefix xsd: <http://www.w3.org/2001/XMLSchema#>\n",
    "\n",
    "select  ?fwa_name (sum(xsd:decimal(?ead_mean)) as ?ead_mean)\n",
    "from <http://ensembleprojects.org/floodrisk/property>\n",
    "from <http://ensembleprojects.org/graph/floodrisk/damage#0>\n",
    "where {\n",
    "    ?property pd:posttown \"NEWARK\" ;\n",
    "              pd:fwa_name ?fwa_name ;\n",
    "              pd:jbapropRef ?ref .\n",
    "    ?newProperty pd:propRef ?ref ; \n",
    "                 pd:ead_mean ?ead_mean .\n",
    "}\n",
    "group by ?fwa_name"
   ]
  },
  {
   "cell_type": "markdown",
   "metadata": {},
   "source": [
    "### EAD for Newark by Flood Warning Zones"
   ]
  },
  {
   "cell_type": "code",
   "execution_count": null,
   "metadata": {},
   "outputs": [],
   "source": [
    "prefix pd:  <http://ensembleprojects.org/ns/floodrisk/property_data#>\n",
    "prefix xsd: <http://www.w3.org/2001/XMLSchema#>\n",
    "\n",
    "select \n",
    "    (sum(xsd:decimal(?fz1)) as ?fz1) \n",
    "    (sum(xsd:decimal(?fz2)) as ?fz2)\n",
    "    (sum(xsd:decimal(?fz3)) as ?fz3)\n",
    "from <http://ensembleprojects.org/floodrisk/property>\n",
    "from <http://ensembleprojects.org/graph/floodrisk/damage#0>\n",
    "where {\n",
    "    {\n",
    "        ?property pd:posttown \"NEWARK\" ;\n",
    "              pd:fz2 'NO';\n",
    "              pd:fz3 'YES';\n",
    "              pd:jbapropRef ?ref .\n",
    "        ?newProperty pd:propRef ?ref ; \n",
    "                 pd:ead_mean ?fz3 .        \n",
    "    }\n",
    "    union\n",
    "    {\n",
    "        ?property pd:posttown \"NEWARK\" ;\n",
    "              pd:fz2 'YES';\n",
    "              pd:fz3 'YES';\n",
    "              pd:jbapropRef ?ref .\n",
    "        ?newProperty pd:propRef ?ref ; \n",
    "                 pd:ead_mean ?fz2 .         \n",
    "    }\n",
    "    union\n",
    "    {\n",
    "        ?property pd:posttown \"NEWARK\" ;\n",
    "              pd:fz2 'NO';\n",
    "              pd:fz3 'NO';\n",
    "              pd:jbapropRef ?ref .\n",
    "        ?newProperty pd:propRef ?ref ; \n",
    "                 pd:ead_mean ?fz1 .         \n",
    "    }\n",
    "}\n"
   ]
  },
  {
   "cell_type": "markdown",
   "metadata": {},
   "source": [
    "### EAD for Newark by Model Study"
   ]
  },
  {
   "cell_type": "code",
   "execution_count": 3,
   "metadata": {},
   "outputs": [
    {
     "data": {
      "text/html": [
       "<div class=\"krn-spql\"><table><tr class=hdr><th>model</th>\n",
       "<th>ead_mean</th></tr><tr class=odd><td class=val>Tidal Trent SFRM Model Fluvial Dominated_ Mott Macdonald_ 2015</td>\n",
       "<td class=val>1509161.511003784</td></tr><tr class=even><td class=val>River Trent and Tributaries SFRM2_ Halcrow_ July 2011</td>\n",
       "<td class=val>1256175.653147835</td></tr><tr class=odd><td class=val>River Maun Flood Risk Mapping_ JBA_ March 2007</td>\n",
       "<td class=val>223090.66940382</td></tr><tr class=even><td class=val>River Meden Flood Risk Mapping Study_ JBA_ June 2008</td>\n",
       "<td class=val>16.45146409</td></tr><tr class=odd><td class=val>Flood Modelling of the River Smite_ JBA_ March 2012</td>\n",
       "<td class=val>2497.83865771</td></tr></table><div class=\"tinfo\">Total: 5, Shown: 5</div></div>"
      ]
     },
     "metadata": {},
     "output_type": "display_data"
    }
   ],
   "source": [
    "prefix pd:  <http://ensembleprojects.org/ns/floodrisk/property_data#>\n",
    "prefix xsd: <http://www.w3.org/2001/XMLSchema#>\n",
    "\n",
    "select  ?model (sum(xsd:decimal(?ead_mean)) as ?ead_mean)\n",
    "from <http://ensembleprojects.org/floodrisk/property>\n",
    "from <http://ensembleprojects.org/graph/floodrisk/damage#0>\n",
    "where {\n",
    "    ?property pd:posttown \"NEWARK\" ;\n",
    "              pd:model ?model ;\n",
    "              pd:jbapropRef ?ref .\n",
    "    ?newProperty pd:propRef ?ref ; \n",
    "                 pd:ead_mean ?ead_mean .\n",
    "}\n",
    "group by ?model"
   ]
  },
  {
   "cell_type": "markdown",
   "metadata": {},
   "source": [
    "### Estimation uncertainty - Onset of Flooding"
   ]
  },
  {
   "cell_type": "code",
   "execution_count": null,
   "metadata": {},
   "outputs": [],
   "source": [
    "prefix pd:  <http://ensembleprojects.org/ns/floodrisk/property_data#>\n",
    "prefix xsd: <http://www.w3.org/2001/XMLSchema#>\n",
    "\n",
    "select\n",
    "    (sum(xsd:decimal(?ead_mean_opt)) as ?ead_mean_opt)\n",
    "    (sum(xsd:decimal(?ead_mean_mid)) as ?ead_mean_mid)\n",
    "    (sum(xsd:decimal(?ead_mean_pess)) as ?ead_mean_pess)\n",
    "where {\n",
    "    graph <http://ensembleprojects.org/floodrisk/property> {\n",
    "        ?property pd:posttown \"NEWARK\" .\n",
    "        ?property pd:jbapropRef ?jbapropRef\n",
    "    }\n",
    "    graph <http://ensembleprojects.org/graph/floodrisk/damage#0> {\n",
    "        ?newProperty pd:propRef ?jbapropRef .\n",
    "        ?newProperty pd:ead_mean ?ead_mean_opt .\n",
    "    }\n",
    "    graph <http://ensembleprojects.org/graph/floodrisk/damage#1> {\n",
    "        ?newProperty pd:propRef ?jbapropRef .\n",
    "        ?newProperty pd:ead_mean ?ead_mean_pess .\n",
    "    }\n",
    "    graph <http://ensembleprojects.org/graph/floodrisk/damage#2> {\n",
    "        ?newProperty pd:propRef ?jbapropRef .\n",
    "        ?newProperty pd:ead_mean ?ead_mean_mid .\n",
    "    }\n",
    "}"
   ]
  },
  {
   "cell_type": "markdown",
   "metadata": {},
   "source": [
    "### Estimation uncertainty - Truncation"
   ]
  },
  {
   "cell_type": "code",
   "execution_count": null,
   "metadata": {},
   "outputs": [],
   "source": [
    "prefix pd:  <http://ensembleprojects.org/ns/floodrisk/property_data#>\n",
    "prefix dd:  <http://ensembleprojects.org/ns/floodrisk/damage_data#>\n",
    "prefix xsd: <http://www.w3.org/2001/XMLSchema#>\n",
    "\n",
    "select\n",
    "    (sum(xsd:decimal(?ead_mean_opt)) as ?ead_mean_opt)\n",
    "    (sum(xsd:decimal(?ead_mean_mid)) as ?ead_mean_mid)\n",
    "    (sum(xsd:decimal(?ead_mean_pess)) as ?ead_mean_pess)\n",
    "where {\n",
    "    graph <http://ensembleprojects.org/floodrisk/property> {\n",
    "        ?property pd:posttown \"NEWARK\" .\n",
    "        ?property pd:jbapropRef ?jbapropRef\n",
    "    }\n",
    "    graph <http://ensembleprojects.org/graph/floodrisk/damage#5> {\n",
    "        ?newProperty pd:propRef ?jbapropRef .\n",
    "        ?newProperty pd:opt ?ead_mean_opt .\n",
    "        ?newProperty pd:mid ?ead_mean_mid .\n",
    "        ?newProperty pd:pess ?ead_mean_pess .\n",
    "    }\n",
    "}"
   ]
  },
  {
   "cell_type": "markdown",
   "metadata": {},
   "source": [
    "### Estimation uncertainty - Monte Carlo Simulation"
   ]
  },
  {
   "cell_type": "code",
   "execution_count": null,
   "metadata": {},
   "outputs": [],
   "source": [
    "prefix pd:  <http://ensembleprojects.org/ns/floodrisk/property_data#>\n",
    "prefix xsd: <http://www.w3.org/2001/XMLSchema#>\n",
    "\n",
    "select\n",
    "    (sum(xsd:decimal(?ead_mean)) as ?ead_mean)\n",
    "    (sum(xsd:decimal(?ead_lowerTi)) as ?ead_lowerTi)\n",
    "    (sum(xsd:decimal(?ead_upperTi)) as ?ead_upperTi)\n",
    "where {\n",
    "        graph <http://ensembleprojects.org/floodrisk/property> {\n",
    "        ?property pd:posttown \"NEWARK\" .\n",
    "        ?property pd:jbapropRef ?jbapropRef\n",
    "    }\n",
    "    graph <http://ensembleprojects.org/graph/floodrisk/damage#3> {\n",
    "        ?newProperty pd:propRef ?jbapropRef .\n",
    "        ?newProperty pd:ead_mean ?ead_mean .\n",
    "        ?newProperty pd:ead_lowerTi ?ead_lowerTi .\n",
    "        ?newProperty pd:ead_upperTi ?ead_upperTi \n",
    "    }\n",
    "}"
   ]
  },
  {
   "cell_type": "markdown",
   "metadata": {},
   "source": [
    "### Observed Events - EAD for Colwick following observed event"
   ]
  },
  {
   "cell_type": "code",
   "execution_count": null,
   "metadata": {},
   "outputs": [],
   "source": [
    "prefix pd:  <http://ensembleprojects.org/ns/floodrisk/property_data#>\n",
    "prefix dd:  <http://ensembleprojects.org/ns/floodrisk/damage_data#>\n",
    "prefix xsd: <http://www.w3.org/2001/XMLSchema#>\n",
    "\n",
    "select\n",
    "    (sum(xsd:decimal(?ead)) as ?ead)\n",
    "where {\n",
    "    graph <http://ensembleprojects.org/floodrisk/property> {\n",
    "        ?property pd:posttown \"NEWARK\" .\n",
    "        ?property pd:station_name \"COLWICK\" .\n",
    "        ?property pd:jbapropRef ?jbapropRef\n",
    "    }\n",
    "    graph <http://ensembleprojects.org/graph/floodrisk/damage#4> {\n",
    "        ?newProperty pd:propRef ?jbapropRef .\n",
    "        ?newProperty pd:ead ?ead \n",
    "    }\n",
    "}"
   ]
  },
  {
   "cell_type": "markdown",
   "metadata": {},
   "source": [
    "### Observed Events - Metadata"
   ]
  },
  {
   "cell_type": "code",
   "execution_count": null,
   "metadata": {},
   "outputs": [],
   "source": [
    "prefix ed: <http://ensembleprojects.org/ns/floodrisk/event_data#>\n",
    "select ?location ?rp ?properties ?source ?date\n",
    "where {\n",
    "    graph <http://ensembleprojects.org/graph/floodrisk/events> {\n",
    "        ?s ed:location ?location ;\n",
    "           ed:rp ?rp ;\n",
    "           ed:properties ?properties ;\n",
    "           ed:url ?source ;\n",
    "           ed:date ?date .\n",
    "    }\n",
    "}"
   ]
  },
  {
   "cell_type": "markdown",
   "metadata": {},
   "source": [
    "### Observed Events - EAD from C@R data"
   ]
  },
  {
   "cell_type": "code",
   "execution_count": null,
   "metadata": {},
   "outputs": [],
   "source": [
    "prefix pd:  <http://ensembleprojects.org/ns/floodrisk/property_data#>\n",
    "prefix xsd: <http://www.w3.org/2001/XMLSchema#>\n",
    "\n",
    "select  (sum(xsd:decimal(?ead_mean)) as ?ead_mean)\n",
    "from <http://ensembleprojects.org/floodrisk/property>\n",
    "from <http://ensembleprojects.org/graph/floodrisk/damage#0>\n",
    "where {\n",
    "    ?property pd:posttown \"NEWARK\" .\n",
    "    ?property pd:station_name \"COLWICK\" .\n",
    "    ?property pd:jbapropRef ?ref .\n",
    "    ?newProperty pd:propRef ?ref . \n",
    "    ?newProperty pd:ead_mean ?ead_mean .\n",
    "}"
   ]
  },
  {
   "cell_type": "markdown",
   "metadata": {},
   "source": [
    "### Observed Events - Map data"
   ]
  },
  {
   "cell_type": "code",
   "execution_count": null,
   "metadata": {},
   "outputs": [],
   "source": [
    "prefix gd:    <http://ensembleprojects.org/ns/floodrisk/gauge_data#>\n",
    "prefix rt:    <http://environment.data.gov.uk/flood-monitoring/def/core/>\n",
    "prefix geo:   <http://www.w3.org/2003/01/geo/wgs84_pos#>\n",
    "\n",
    "select ?lat ?long ?label\n",
    "from <http://ensembleprojects.org/floodrisk/gauge>\n",
    "from <http://ensembleprojects.org/floodrisk/property>\n",
    "from <http://environment.data.gov.uk/flood-monitoring/id/stations.rdf>\n",
    "where {\n",
    "    ?local_gauge gd:station_name \"COLWICK\" ;\n",
    "       gd:site_reference ?site_reference .\n",
    "    ?ea_gauge rt:stationReference ?site_reference ;\n",
    "              geo:lat ?lat ;\n",
    "              geo:long ?long ;\n",
    "              rdfs:label ?label .\n",
    "}"
   ]
  },
  {
   "cell_type": "markdown",
   "metadata": {},
   "source": [
    "### Observed Events - Properties"
   ]
  },
  {
   "cell_type": "code",
   "execution_count": null,
   "metadata": {},
   "outputs": [],
   "source": [
    "prefix pd:  <http://ensembleprojects.org/ns/floodrisk/property_data#>\n",
    "\n",
    "select  ?jbapropRef ?bngeast ?bngnorth\n",
    "from <http://ensembleprojects.org/floodrisk/property>\n",
    "from <http://ensembleprojects.org/graph/floodrisk/damage#0>\n",
    "where {\n",
    "    ?property pd:posttown \"NEWARK\" ;\n",
    "              pd:station_name \"COLWICK\" ;\n",
    "              pd:jbapropRef ?jbapropRef ;\n",
    "              pd:bngeast ?bngeast ;\n",
    "              pd:bngnorth ?bngnorth .\n",
    "}"
   ]
  },
  {
   "cell_type": "markdown",
   "metadata": {},
   "source": [
    "### Observed Events - Property Details"
   ]
  },
  {
   "cell_type": "code",
   "execution_count": null,
   "metadata": {},
   "outputs": [],
   "source": [
    "prefix pd:  <http://ensembleprojects.org/ns/floodrisk/property_data#>\n",
    "\n",
    "select  ?q2 ?q5 ?q10 ?q20 ?q50 ?q75 ?q100 ?q200 ?q1000\n",
    "from <http://ensembleprojects.org/floodrisk/property>\n",
    "from <http://ensembleprojects.org/graph/floodrisk/damage#0>\n",
    "where {\n",
    "    ?s pd:jbapropRef '51183' ;\n",
    "       pd:q2_existingDamageMean ?q2 ;\n",
    "       pd:q5_existingDamagelMean ?q5 ;\n",
    "       pd:q10_existingDamageMean ?q10 ;\n",
    "       pd:q20_existingDamageMean ?q20 ;\n",
    "       pd:q50_existingDamageMean ?q50 ;\n",
    "       pd:q75_existingDamageMean ?q75 ;\n",
    "       pd:q100_existingDamageMean ?q100 ;\n",
    "       pd:q200_existingDamageMean ?q200 ;\n",
    "       pd:q1000_existingDamagelMean ?q1000 \n",
    "}"
   ]
  },
  {
   "cell_type": "code",
   "execution_count": null,
   "metadata": {},
   "outputs": [],
   "source": [
    "prefix gd: <http://ensembleprojects.org/ns/floodrisk/gauge_data#>\n",
    "\n",
    "select distinct ?station_name ?site_reference\n",
    "from <http://ensembleprojects.org/floodrisk/gauge>\n",
    "where {\n",
    "    ?s gd:station_name \"COLWICK\" ;\n",
    "       gd:site_reference ?site_reference .\n",
    "}"
   ]
  },
  {
   "cell_type": "code",
   "execution_count": null,
   "metadata": {},
   "outputs": [],
   "source": [
    "prefix pd:  <http://ensembleprojects.org/ns/floodrisk/property_data#>\n",
    "prefix xsd: <http://www.w3.org/2001/XMLSchema#>\n",
    "\n",
    "select\n",
    "    (sum(xsd:decimal(?q0)) as ?Q0)\n",
    "    (sum(xsd:decimal(?q2)) as ?Q2)\n",
    "    (sum(xsd:decimal(?q5)) as ?Q5)\n",
    "    (sum(xsd:decimal(?q10)) as ?Q10)\n",
    "    (sum(xsd:decimal(?q20)) as ?Q20)\n",
    "    (sum(xsd:decimal(?q50)) as ?Q50)\n",
    "    (sum(xsd:decimal(?q75)) as ?Q75)\n",
    "    (sum(xsd:decimal(?q100)) as ?Q100)\n",
    "    (sum(xsd:decimal(?q200)) as ?Q200)\n",
    "    (sum(xsd:decimal(?q1000)) as ?Q1000)\n",
    "from <http://ensembleprojects.org/floodrisk/property>\n",
    "from <http://ensembleprojects.org/graph/floodrisk/property#0>\n",
    "where {\n",
    "    ?property pd:posttown \"NEWARK\" ;\n",
    "              pd:jbapropRef ?ref .\n",
    "    ?newProperty pd:propRef ?ref ; \n",
    "                 pd:q0 ?q0 ;\n",
    "                 pd:q2 ?q2 ;\n",
    "                 pd:q5 ?q5 ;\n",
    "                 pd:q10 ?q10 ;\n",
    "                 pd:q20 ?q20 ;\n",
    "                 pd:q50 ?q50 ;\n",
    "                 pd:q75 ?q75 ;\n",
    "                 pd:q100 ?q100 ;\n",
    "                 pd:q200 ?q200 ;\n",
    "                 pd:q1000 ?q1000 .\n",
    "}"
   ]
  },
  {
   "cell_type": "code",
   "execution_count": null,
   "metadata": {},
   "outputs": [],
   "source": [
    "prefix rdfs: <http://www.w3.org/2000/01/rdf-schema#>\n",
    "prefix dbo: <http://dbpedia.org/ontology/>\n",
    "\n",
    "select distinct ?subject ?comment ?population\n",
    "where  { \n",
    "    service <http://dbpedia.org/sparql> {\n",
    "        ?s rdfs:label \"Newark-on-Trent\"@en .\n",
    "        ?s rdfs:comment ?comment .\n",
    "        ?s dbo:population ?population\n",
    "        filter langMatches(lang(?comment),\"en\")\n",
    "    }\n",
    "}"
   ]
  },
  {
   "cell_type": "code",
   "execution_count": null,
   "metadata": {},
   "outputs": [],
   "source": [
    "prefix rdfs: <http://www.w3.org/2000/01/rdf-schema#>\n",
    "prefix dbp: <http://dbpedia.org/property/>\n",
    "prefix dbo: <http://dbpedia.org/ontology/>\n",
    "prefix dbr: <http://dbpedia.org/resource/>\n",
    "prefix geo: <http://www.w3.org/2003/01/geo/wgs84_pos#>\n",
    "\n",
    "select distinct  ?postTown ?lat ?long ?comment ?population\n",
    "where  { \n",
    "    service <http://dbpedia.org/sparql> {\n",
    "        dbr:Newark-on-Trent dbp:postTown ?postTown ;\n",
    "                            dbp:latitude ?lat ;\n",
    "                            dbp:longitude ?long ;\n",
    "                            rdfs:comment ?comment ;\n",
    "                            dbo:populationTotal ?population .\n",
    "        filter langMatches(lang(?comment),\"en\")\n",
    "    }\n",
    "}"
   ]
  },
  {
   "cell_type": "code",
   "execution_count": null,
   "metadata": {},
   "outputs": [],
   "source": [
    "prefix rdfs: <http://www.w3.org/2000/01/rdf-schema#>\n",
    "prefix dbp: <http://dbpedia.org/property/>\n",
    "prefix dbo: <http://dbpedia.org/ontology/>\n",
    "prefix dbr: <http://dbpedia.org/resource/>\n",
    "prefix geo: <http://www.w3.org/2003/01/geo/wgs84_pos#>\n",
    "prefix owl: <http://www.w3.org/2002/07/owl#>\n",
    "prefix rdfs: <http://www.w3.org/2000/01/rdf-schema#>\n",
    "\n",
    "select  distinct ?p\n",
    "where  { \n",
    "    service <http://dbpedia.org/sparql> {\n",
    "        dbr:Newark-on-Trent ?p ?o\n",
    "        filter(regex(?p, 'ontology', 'i'))\n",
    "    }\n",
    "}"
   ]
  },
  {
   "cell_type": "code",
   "execution_count": null,
   "metadata": {},
   "outputs": [],
   "source": [
    "select distinct ?p\n",
    "from <http://ensembleprojects.org/floodrisk/property>\n",
    "where {\n",
    "    ?s ?p ?o .\n",
    "    filter(regex (str(?p), 'fz', 'i'))\n",
    "}"
   ]
  },
  {
   "cell_type": "markdown",
   "metadata": {
    "collapsed": true
   },
   "source": [
    "### Triple Store Overview"
   ]
  },
  {
   "cell_type": "markdown",
   "metadata": {},
   "source": [
    "#### Named Graphs"
   ]
  },
  {
   "cell_type": "code",
   "execution_count": null,
   "metadata": {},
   "outputs": [],
   "source": [
    "SELECT DISTINCT ?g \n",
    "WHERE {\n",
    "  GRAPH ?g { ?s ?p ?o }\n",
    "}"
   ]
  },
  {
   "cell_type": "markdown",
   "metadata": {},
   "source": [
    "#### Graph Details\n",
    "\n",
    "##### Raw data graphs generated from Communities @ Risk spreadsheet \n",
    "Gauge Worksheet:\n",
    "http://ensembleprojects.org/floodrisk/gauge <br />\n",
    "Property Worksheet:\n",
    "http://ensembleprojects.org/floodrisk/property\n",
    "\n",
    "##### New Graph created to store splitting of model string into distinct 'name', 'organisation' and 'date' triples\n",
    "http://ensembleprojects.org/gauge \n",
    "\n",
    "##### OWL / RDFS model for generic gauge flow return period class and sub-classses\n",
    "OWL / RDFS Model: http://ensembleprojects.org/owl/gaugemodel <br />\n",
    "Data to populate ontology: http://ensembleprojects.org/floodrisk/gaugeleveldata \n",
    "\n",
    "##### OWL  / RDFS model for generic property damage return period class and sub-classses\n",
    "http://ensembleprojects.org/owl/propertymodel\n",
    "\n",
    "##### New Statistical Damage Estimates\n",
    "Collection of named property damage estimate graphs:\n",
    "http://ensembleprojects.org/floodrisk/damageestimates <br />\n",
    "A named property damage estimate graph:\n",
    "http://ensembleprojects.org/floodrisk/damage#0\n",
    "\n",
    "##### Environment Agency Real-Time Flood APIs\n",
    "http://environment.data.gov.uk/flood-monitoring/id/measures.rdf <br />\n",
    "http://environment.data.gov.uk/flood-monitoring/data/readings.rdf\n"
   ]
  },
  {
   "cell_type": "code",
   "execution_count": null,
   "metadata": {},
   "outputs": [],
   "source": [
    "SELECT ?s ?p ?o\n",
    "FROM <http://ensembleprojects.org/owl/propertymodel>\n",
    "WHERE {?s ?p ?o}"
   ]
  },
  {
   "cell_type": "markdown",
   "metadata": {},
   "source": [
    "### Example 1\n",
    "Find all flow rate return periods from gauging station \"Ashford\". In the current C@R data this is only possible via a regular expression, where here we have added semantic information manually to represent the fact that the different return periods (e.g. q2, q5, q10, etc) are a sub-class of the generic 'q' return period.\n",
    "\n",
    "<img src=\"sw1.png\" width=\"600\" height=\"400\" />"
   ]
  },
  {
   "cell_type": "code",
   "execution_count": null,
   "metadata": {
    "scrolled": false
   },
   "outputs": [],
   "source": [
    "prefix g:       <http://ensembleprojects.org/ns/floodrisk/gauge#>\n",
    "prefix gd:      <http://ensembleprojects.org/ns/floodrisk/gauge_data#>\n",
    "prefix p:       <http://ensembleprojects.org/ns/floodrisk/property#>\n",
    "prefix pd:      <http://ensembleprojects.org/ns/floodrisk/property_data#>\n",
    "prefix fr:      <http://ensembleprojects.org/floodrisk/>\n",
    "\n",
    "select ?name ?flow ?val\n",
    "from <http://ensembleprojects.org/floodrisk/gauge>\n",
    "from <http://ensembleprojects.org/floodrisk/property>\n",
    "where {\n",
    "        g:0 gd:station_name ?name .\n",
    "        g:0 ?flow ?val .\n",
    "        ?flow a fr:q .\n",
    "}\n"
   ]
  },
  {
   "cell_type": "markdown",
   "metadata": {},
   "source": [
    "### Example 2\n",
    "Example 1 showed how we could manually add in class information to a dataset. This example shows how we can also use RDFS/OWL to add semantic information to existing datasets. We first of create an RDFS/OWL class model of the property damage mean and then sub-class off that the various different return periods. We then elaborate the existing data to instantiate the different return periods.\n",
    "\n",
    "<img src='sw3.png' width=\"600\" height=\"400\" align=\"left\" /><br><br>\n",
    "\n",
    "<img src='sw4.png' width=\"600\" height=\"400\" align=\"left\" />\n"
   ]
  },
  {
   "cell_type": "code",
   "execution_count": null,
   "metadata": {
    "scrolled": true
   },
   "outputs": [],
   "source": [
    "DEFINE input:inference <http://ensembleprojects.org/owl/propertymodel>\n",
    "\n",
    "PREFIX pm: <http://ensembleprojects.org/ns/owl/propertymodel/>\n",
    "PREFIX p: <http://ensembleprojects.org/ns/floodrisk/property#>\n",
    "PREFIX pd: <http://ensembleprojects.org/ns/floodrisk/property_data#>\n",
    "SELECT ?damageMean ?height\n",
    "FROM <http://ensembleprojects.org/floodrisk/property>\n",
    "WHERE { \n",
    "  p:0 ?damageMean ?height .\n",
    "  ?damageMean a pm:q_existingDamageMeanClass .\n",
    "}"
   ]
  },
  {
   "cell_type": "markdown",
   "metadata": {},
   "source": [
    "### Example 3\n",
    "Shows how we add in new semantics using our own predicates. We have added in manually an ordering predicate for return values allowing queries for 'less than' or 'greater than' particular return periods. The example below queries for return periods less than q50.\n",
    "\n",
    "<img src=\"sw2.png\" width=\"600\" height=\"400\" />"
   ]
  },
  {
   "cell_type": "code",
   "execution_count": null,
   "metadata": {
    "scrolled": false
   },
   "outputs": [],
   "source": [
    "prefix g:       <http://ensembleprojects.org/ns/floodrisk/gauge#>\n",
    "prefix gd:      <http://ensembleprojects.org/ns/floodrisk/gauge_data#>\n",
    "prefix p:       <http://ensembleprojects.org/ns/floodrisk/property#>\n",
    "prefix pd:      <http://ensembleprojects.org/ns/floodrisk/property_data#>\n",
    "prefix fr:      <http://ensembleprojects.org/floodrisk/>\n",
    "\n",
    "select ?name ?flow ?val \n",
    "from <http://ensembleprojects.org/floodrisk/gauge>\n",
    "from <http://ensembleprojects.org/floodrisk/property>\n",
    "where {\n",
    "        g:0 gd:station_name ?name .\n",
    "        g:0 ?flow ?val .\n",
    "        ?flow a fr:q .\n",
    "        ?flow fr:lessThan fr:q50 .\n",
    "}"
   ]
  },
  {
   "cell_type": "code",
   "execution_count": null,
   "metadata": {},
   "outputs": [],
   "source": [
    "prefix damage:     <http://ensembleprojects.org/ns/floodrisk/damage#>\n",
    "prefix damageData: <http://ensembleprojects.org/ns/floodrisk/damage_data#>\n",
    "\n",
    "select *\n",
    "from <http://ensembleprojects.org/floodrisk/damageestimates> \n",
    "where {\n",
    " ?s ?p ?o\n",
    "}"
   ]
  },
  {
   "cell_type": "markdown",
   "metadata": {},
   "source": [
    "### Example 4\n",
    "This example shows the integration of different data sources. In the current C@R datasets the geographical location of gauging stations is not available (it is for properties). To display gauging stations and related properties on a map we link the gauge station id available in the Communities at Risk dataset with the gauge station id available from the Environment Agency real-time flooding APIs. This API does provide lat and long information for the station and we use that to place it on a map."
   ]
  },
  {
   "cell_type": "code",
   "execution_count": null,
   "metadata": {
    "scrolled": true
   },
   "outputs": [],
   "source": [
    "from SPARQLWrapper import SPARQLWrapper, JSON\n",
    "import folium\n",
    "import EN2LatLon\n",
    "   \n",
    "query = \"\"\"\n",
    "prefix g:     <http://ensembleprojects.org/ns/floodrisk/gauge#>\n",
    "prefix gd:    <http://ensembleprojects.org/ns/floodrisk/gauge_data#>\n",
    "prefix p:     <http://ensembleprojects.org/ns/floodrisk/property#>\n",
    "prefix pd:    <http://ensembleprojects.org/ns/floodrisk/property_data#>\n",
    "prefix rdfs:  <http://www.w3.org/2000/01/rdf-schema#>\n",
    "prefix rt:    <http://environment.data.gov.uk/flood-monitoring/def/core/>\n",
    "prefix geo:   <http://www.w3.org/2003/01/geo/wgs84_pos#>\n",
    "\n",
    "select *\n",
    "from <http://ensembleprojects.org/floodrisk/gauge>\n",
    "from <http://ensembleprojects.org/floodrisk/property>\n",
    "from <http://environment.data.gov.uk/flood-monitoring/id/stations.rdf>\n",
    "where {\n",
    "        ?property pd:station_name \"ASHFORD\" .\n",
    "        ?property pd:bngeast ?bngeast .\n",
    "        ?property pd:bngnorth ?bngnorth .\n",
    "        ?property pd:q2_existingDamageMean ?q2_existingDamageMean .\n",
    "        ?property pd:q5_existingDamagelMean ?q5_existingDamageMean .\n",
    "        ?property pd:q10_existingDamageMean ?q10_existingDamageMean .\n",
    "        ?property pd:q20_existingDamageMean ?q20_existingDamageMean .\n",
    "        ?property pd:q50_existingDamageMean ?q50_existingDamageMean .\n",
    "        ?property pd:property_thresh ?property_thresh .\n",
    "        ?property pd:threshold_source ?threshold_source .\n",
    "        \n",
    "        ?station gd:station_name \"ASHFORD\" .\n",
    "        ?station gd:site_reference ?site_reference .\n",
    "        ?s rt:stationReference ?site_reference .\n",
    "        ?s rt:catchmentName ?catchmentName .\n",
    "        ?s rt:riverName ?riverName .\n",
    "        ?s geo:lat ?lat .\n",
    "        ?s geo:long ?long .\n",
    "        ?s rdfs:label ?label .\n",
    "}\n",
    "limit 10\n",
    "\"\"\"\n",
    "\n",
    "# Assumes OpenLink Virtuoso sparql endpoint running at:\n",
    "sparql_endpoint = \"http://localhost:8890/sparql\"\n",
    "\n",
    "sparql = SPARQLWrapper(sparql_endpoint)\n",
    "sparql.setReturnFormat(JSON)\n",
    "\n",
    "sparql.setQuery(query)\n",
    "results = sparql.query().convert()\n",
    "\n",
    "stationPopup = \"Name: {}<br />River Name: {}<br />Catchment Name: {}\".format(\n",
    "        results[\"results\"][\"bindings\"][0][\"label\"][\"value\"],\n",
    "        results[\"results\"][\"bindings\"][0][\"riverName\"][\"value\"],\n",
    "        results[\"results\"][\"bindings\"][0][\"catchmentName\"][\"value\"]\n",
    ")\n",
    "\n",
    "lat = results[\"results\"][\"bindings\"][0][\"lat\"][\"value\"]\n",
    "lon = results[\"results\"][\"bindings\"][0][\"long\"][\"value\"]\n",
    "label = results[\"results\"][\"bindings\"][0][\"label\"][\"value\"]\n",
    "    \n",
    "map_osm = folium.Map(location=[float(lat), float(lon)],zoom_start=11)\n",
    "folium.Marker(location=[float(lat), float(lon)],\n",
    "                  icon=folium.Icon(color='blue', prefix='fa', icon='tachometer'),\n",
    "                  popup=stationPopup).add_to(map_osm) \n",
    "\n",
    "for result in results[\"results\"][\"bindings\"]:\n",
    "    lat, lon = EN2LatLon.OSGB36toWGS84(float(result[\"bngeast\"][\"value\"]), float(result[\"bngnorth\"][\"value\"]))\n",
    "    propertyPopup = \\\n",
    "        \"\"\"Threshold: {}<br />Threshold Source: {}<br />\n",
    "           Q2 Existing Damage Mean: {}<br />\n",
    "           Q5 Existing Damage Mean: {}<br />\n",
    "           Q10 Existing Damage Mean: {}<br />\n",
    "           Q20 Existing Damage Mean: {}<br />\n",
    "           Q50 Existing Damage Mean: {}\"\"\".format(\n",
    "                result[\"property_thresh\"][\"value\"],\n",
    "                result[\"threshold_source\"][\"value\"],\n",
    "                result[\"q2_existingDamageMean\"][\"value\"],\n",
    "                result[\"q5_existingDamageMean\"][\"value\"],\n",
    "                result[\"q10_existingDamageMean\"][\"value\"],\n",
    "                result[\"q20_existingDamageMean\"][\"value\"],\n",
    "                result[\"q50_existingDamageMean\"][\"value\"])\n",
    "\n",
    "    folium.Marker(location=[lat, lon],\n",
    "        icon=folium.Icon(color='lightred', prefix='fa', icon='home'), \n",
    "        popup=propertyPopup).add_to(map_osm)\n",
    "    \n",
    "map_osm"
   ]
  },
  {
   "cell_type": "markdown",
   "metadata": {},
   "source": [
    "### Example 5\n",
    "\n",
    "Convert to a function and use inteface elements of Jupyter to allow selection from a dropdown box"
   ]
  },
  {
   "cell_type": "code",
   "execution_count": null,
   "metadata": {
    "scrolled": true
   },
   "outputs": [],
   "source": [
    "from ipywidgets import interact, interactive, fixed, interact_manual\n",
    "import ipywidgets as widgets\n",
    "import gauges\n",
    "\n",
    "station_list = gauges.stations()\n",
    "interact(gauges.gaugeStation, name=station_list)"
   ]
  },
  {
   "cell_type": "markdown",
   "metadata": {},
   "source": [
    "### Example 6\n",
    "Find number of properties with threshold measurement via LiDAR or Survey. We might use this to assess uncertainty around LiDAR measurements for example and provide justification for a future threshold survey."
   ]
  },
  {
   "cell_type": "code",
   "execution_count": null,
   "metadata": {
    "scrolled": true
   },
   "outputs": [],
   "source": [
    "from SPARQLWrapper import SPARQLWrapper, JSON\n",
    "\n",
    "sparql_query = \"\"\"\n",
    "prefix g:       <http://ensembleprojects.org/ns/floodrisk/gauge#>\n",
    "prefix gd:      <http://ensembleprojects.org/ns/floodrisk/gauge_data#>\n",
    "prefix p:       <http://ensembleprojects.org/ns/floodrisk/property#>\n",
    "prefix pd:      <http://ensembleprojects.org/ns/floodrisk/property_data#>\n",
    "\n",
    "select ?lidar_count ?survey_count\n",
    "from <http://ensembleprojects.org/floodrisk/gauge>\n",
    "from <http://ensembleprojects.org/floodrisk/property>\n",
    "where\n",
    "{\n",
    "    {select (count(distinct ?property_l) as ?lidar_count)\n",
    "    where {\n",
    "        {?property_l pd:threshold_source \"LiDAR\" .}\n",
    "    }}\n",
    "    union \n",
    "    {select (count(distinct ?property_s) as ?survey_count)\n",
    "    where {\n",
    "        {?property_s pd:threshold_source \"Survey\" .}\n",
    "    }}\n",
    "}\n",
    "\"\"\"\n",
    "# Assumes OpenLink Virtuoso sparql endpoint running at:\n",
    "sparql_endpoint = \"http://localhost:8890/sparql\"\n",
    "\n",
    "sparql = SPARQLWrapper(sparql_endpoint)\n",
    "sparql.setQuery(sparql_query)\n",
    "sparql.setReturnFormat(JSON)\n",
    "results = sparql.query().convert()\n",
    "for r in results['results']['bindings']:\n",
    "    for k in list(r):\n",
    "        print(k, r[k]['value'])\n"
   ]
  },
  {
   "cell_type": "markdown",
   "metadata": {},
   "source": [
    "### Example 7\n",
    "The Communities at Risk datset currently stores information about models used as a text string (e.g. 'River Meden Flood Risk Mapping Study_ JBA_ June 2008'). The SPARQL code below unpacks this string into its constituent parts (Study Name, Organisation, Date) then stores this information in the triple store."
   ]
  },
  {
   "cell_type": "code",
   "execution_count": null,
   "metadata": {
    "scrolled": true
   },
   "outputs": [],
   "source": [
    "from SPARQLWrapper import SPARQLWrapper, JSON\n",
    "import calendar\n",
    "\n",
    "sparql_query = \"\"\"\n",
    "SELECT DISTINCT ?s ?o\n",
    "FROM <http://ensembleprojects.org/floodrisk/gauge>\n",
    "WHERE {\n",
    "  ?s <http://ensembleprojects.org/ns/floodrisk/gauge_data#station_model> ?o .\n",
    "}\n",
    "\"\"\"\n",
    "sparql = SPARQLWrapper(sparql_endpoint)\n",
    "sparql.setReturnFormat(JSON)\n",
    "sparql.setMethod('POST')\n",
    "sparql.setQuery(sparql_query)\n",
    "results = sparql.query().convert()\n",
    "\n",
    "modelDict = {}\n",
    "i = 0\n",
    "for result in results['results']['bindings']:\n",
    "    modelDict[result['o']['value']] = i\n",
    "    i = i+1\n",
    "\n",
    "# Assumes OpenLink Virtuoso sparql endpoint running at:\n",
    "sparql_endpoint = \"http://localhost:8890/sparql\"\n",
    "\n",
    "months = {v: k for k,v in enumerate(calendar.month_name)}\n",
    "for result in results['results']['bindings']:\n",
    "    modelName, modelCompany, modelDate = result['o']['value'].split('_')\n",
    "    modelName = modelName.strip()\n",
    "    modelCompany = modelCompany.strip()\n",
    "    modelDate = modelDate.strip()\n",
    "    dateElements = modelDate.split()\n",
    "    if len(dateElements) > 1:\n",
    "      dateMonth = str(months[dateElements[0]]).zfill(2)\n",
    "      dateYear = dateElements[1]\n",
    "      dateString = \"{}-{}-01\".format(dateYear, dateMonth)\n",
    "    else:\n",
    "      dateYear = dateElements[0]\n",
    "      dateString = \"{}-01-01\".format(dateYear)\n",
    "    modelID = modelDict[result['o']['value']]\n",
    "    sparql_update = \"\"\" \n",
    "            PREFIX xsd: <http://www.w3.org/2001/XMLSchema#>\n",
    "            INSERT DATA {{\n",
    "              GRAPH <http://ensembleprojects.org/gauge> {{ \n",
    "                <{}> <http://ensembleprojects.org/ns/floodrisk/gauge_data#station_model_id> <http://ensembleprojects.org/ns/floodrisk/gauge_data#station_model_id#{}> .\n",
    "                <http://ensembleprojects.org/ns/floodrisk/gauge_data#station_model_id#{}> <http://ensembleprojects.org/ns/floodrisk/gauge_data#station_model_name> \"{}\" .\n",
    "                <http://ensembleprojects.org/ns/floodrisk/gauge_data#station_model_id#{}> <http://ensembleprojects.org/ns/floodrisk/gauge_data#station_model_company> \"{}\" .\n",
    "                <http://ensembleprojects.org/ns/floodrisk/gauge_data#station_model_id#{}> <http://ensembleprojects.org/ns/floodrisk/gauge_data#station_model_date> \"{}\" .\n",
    "              }} \n",
    "            }} \n",
    "            \"\"\".format(result['s']['value'],modelID,modelID,modelName,modelID,modelCompany,modelID,dateString)\n",
    "    #sparql.setQuery(sparql_update)\n",
    "    #results = sparql.query().convert()\n",
    "    print(sparql_update)\n"
   ]
  },
  {
   "cell_type": "markdown",
   "metadata": {},
   "source": [
    "### Example 8\n",
    "Using the new triples generated in Example 7, we can now query each gauging station and find the details of the models used."
   ]
  },
  {
   "cell_type": "code",
   "execution_count": null,
   "metadata": {
    "scrolled": true
   },
   "outputs": [],
   "source": [
    "from SPARQLWrapper import SPARQLWrapper, JSON\n",
    "\n",
    "sparql_query = \"\"\"\n",
    "SELECT ?s ?name ?company ?date\n",
    "FROM <http://ensembleprojects.org/gauge>\n",
    "WHERE {\n",
    "  ?s <http://ensembleprojects.org/ns/floodrisk/gauge_data#station_model_id> ?o .\n",
    "  ?o <http://ensembleprojects.org/ns/floodrisk/gauge_data#station_model_name> ?name .\n",
    "  ?o <http://ensembleprojects.org/ns/floodrisk/gauge_data#station_model_company> ?company .\n",
    "  ?o <http://ensembleprojects.org/ns/floodrisk/gauge_data#station_model_date> ?date\n",
    "}\n",
    "\"\"\"\n",
    "sparql = SPARQLWrapper(sparql_endpoint)\n",
    "sparql.setReturnFormat(JSON)\n",
    "sparql.setQuery(sparql_query)\n",
    "results = sparql.query().convert()\n",
    "for result in results['results']['bindings']:\n",
    "    print(result['s']['value'], result['name']['value'], result['company']['value'], result['date']['value'])"
   ]
  },
  {
   "cell_type": "markdown",
   "metadata": {},
   "source": [
    "### Example 9\n",
    "Now that we have access to the model dates, we can easily query for those models that we suspect might be out of date."
   ]
  },
  {
   "cell_type": "code",
   "execution_count": null,
   "metadata": {
    "scrolled": true
   },
   "outputs": [],
   "source": [
    "from SPARQLWrapper import SPARQLWrapper, JSON\n",
    "\n",
    "sparql_query = \"\"\"\n",
    "PREFIX  xsd:  <http://www.w3.org/2001/XMLSchema#>\n",
    "PREFIX  gd:      <http://ensembleprojects.org/ns/floodrisk/gauge_data#>\n",
    "SELECT ?station_name ?model_name ?date\n",
    "FROM <http://ensembleprojects.org/gauge>\n",
    "WHERE {\n",
    "  ?station_name gd:station_model_id ?id .\n",
    "  ?id gd:station_model_name ?model_name .\n",
    "  ?id gd:station_model_date ?date .\n",
    "  FILTER (xsd:date(?date) < \"2007-01-01\"^^xsd:date)\n",
    "}\n",
    "\"\"\"\n",
    "sparql = SPARQLWrapper(sparql_endpoint)\n",
    "sparql.setReturnFormat(JSON)\n",
    "sparql.setQuery(sparql_query)\n",
    "results = sparql.query().convert()\n",
    "for result in results['results']['bindings']:\n",
    "    print(result['station_name']['value'], result['model_name']['value'], result['date']['value'])"
   ]
  },
  {
   "cell_type": "markdown",
   "metadata": {},
   "source": [
    "### Example 10\n",
    "\n"
   ]
  },
  {
   "cell_type": "code",
   "execution_count": null,
   "metadata": {
    "scrolled": true
   },
   "outputs": [],
   "source": [
    "from SPARQLWrapper import SPARQLWrapper, JSON\n",
    "import matplotlib.pyplot as plt\n",
    "\n",
    "def getQueryString(n):\n",
    "    sparql_query = \"\"\"\n",
    "    prefix p:       <http://ensembleprojects.org/ns/floodrisk/property#>\n",
    "    prefix pd:      <http://ensembleprojects.org/ns/floodrisk/property_data#>\n",
    "\n",
    "    select *\n",
    "    from <http://ensembleprojects.org/floodrisk/property>\n",
    "    where {{\n",
    "        p:{} pd:q5_gauge ?q5_gauge ;\n",
    "            pd:q10_gauge ?q10_gauge ;\n",
    "            pd:q20_gauge ?q20_gauge ;\n",
    "            pd:q50_gauge ?q50_gauge ;\n",
    "            pd:q75_gauge ?q75_gauge ;\n",
    "            pd:q100_gauge ?q100_gauge ;\n",
    "            pd:q200_gauge ?q200_gauge ;\n",
    "            pd:q1000_gauge ?q1000_gauge ;\n",
    "            pd:q5_existingLevelMean ?q5_existingLevelMean ;\n",
    "            pd:q10_existingLevelMean ?q10_existingLevelMean ;\n",
    "            pd:q20_existingLevelMean ?q20_existingLevelMean ;\n",
    "            pd:q20_existingLevelMean ?q20_existingLevelMean ;\n",
    "            pd:q50_existingLevelMean ?q50_existingLevelMean ;\n",
    "            pd:q75_existingLevelMean ?q75_existingLevelMean ;\n",
    "            pd:q100_existingLevelMean ?q100_existingLevelMean ;\n",
    "            pd:q200_existingLevelMean ?q200_existingLevelMean ;\n",
    "            pd:q1000_existingLevelMean ?q1000_existingLevelMean ;\n",
    "            pd:property_thresh ?property_thresh .\n",
    "    }}\n",
    "    \"\"\".format(n)\n",
    "    return sparql_query\n",
    "\n",
    "def getMetaDataString(n):\n",
    "    sparql_metadata = \"\"\"\n",
    "        prefix p:       <http://ensembleprojects.org/ns/floodrisk/property#>\n",
    "        prefix pd:      <http://ensembleprojects.org/ns/floodrisk/property_data#>\n",
    "        prefix gd:      <http://ensembleprojects.org/ns/floodrisk/gauge_data#>\n",
    "        prefix damage: <http://ensembleprojects.org/ns/floodrisk/damage#>\n",
    "\n",
    "        select ?model_name ?company ?date ?modelsource ?propertytype ?gauge\n",
    "        from <http://ensembleprojects.org/floodrisk/property>\n",
    "        from <http://ensembleprojects.org/floodrisk/gauge>\n",
    "        from <http://ensembleprojects.org/gauge>\n",
    "        where {{\n",
    "            p:{} pd:model ?model ;\n",
    "                 pd:modelSource ?modelsource ;\n",
    "                 pd:jbapropertyType ?propertytype ;\n",
    "                 pd:station_name ?gauge ;\n",
    "                 pd:gauge_siteRef ?gauge_siteref .\n",
    "            ?s gd:site_reference ?gauge_siteref ;\n",
    "               gd:station_model_id ?id .\n",
    "            ?id gd:station_model_name ?model_name ;\n",
    "                gd:station_model_company ?company ;\n",
    "                gd:station_model_date ?date \n",
    "            \n",
    "        }}\n",
    "    \"\"\".format(n)\n",
    "    return sparql_metadata\n",
    "\n",
    "# Assumes OpenLink Virtuoso sparql endpoint running at:\n",
    "sparql_endpoint = \"http://localhost:8890/sparql\"\n",
    "\n",
    "property = 24\n",
    "sparql_query = getQueryString(property)\n",
    "sparql = SPARQLWrapper(sparql_endpoint)\n",
    "sparql.setQuery(sparql_query)\n",
    "sparql.setReturnFormat(JSON)\n",
    "results = sparql.query().convert()\n",
    "val_array = []\n",
    "depth_array = []\n",
    "for result in results[\"results\"][\"bindings\"]:\n",
    "    for k, v in result.items():\n",
    "        if k == 'property_thresh':\n",
    "            property_threshold = float(result[k]['value'])\n",
    "        else:\n",
    "            val_array.append(float(result[k]['value']))\n",
    "gauge_array = val_array[:int(len(val_array)/2)]\n",
    "flood_array = val_array[int(len(val_array)/2):]\n",
    "for d in flood_array:\n",
    "    f = d-property_threshold\n",
    "    if f > 0:\n",
    "        depth_array.append(d-property_threshold)\n",
    "    else:\n",
    "        depth_array.append(0.0)\n",
    "plt.plot(depth_array,gauge_array,'--bo')\n",
    "plt.xlabel(\"Property Flood Height\")\n",
    "plt.ylabel(\"Gauge Level\")\n",
    "plt.show()\n",
    "\n",
    "sparql_query = getMetaDataString(property)\n",
    "sparql.setQuery(sparql_query)\n",
    "results = sparql.query().convert()\n",
    "for result in results[\"results\"][\"bindings\"]:\n",
    "    print(\"Model Study:\\t\", result['model_name']['value'])\n",
    "    print(\"Organisation:\\t\", result['company']['value'])\n",
    "    print(\"Date:\\t\\t\", result['date']['value'])\n",
    "    print(\"Model Source:\\t\", result['modelsource']['value'])\n",
    "    print(\"Property Type:\\t\", result['propertytype']['value'])\n",
    "    print(\"Gauge Station:\\t\", result['gauge']['value'])"
   ]
  },
  {
   "cell_type": "code",
   "execution_count": null,
   "metadata": {
    "scrolled": true
   },
   "outputs": [],
   "source": [
    "from SPARQLWrapper import SPARQLWrapper, JSON\n",
    "import matplotlib.pyplot as plt\n",
    "from sklearn import datasets, linear_model\n",
    "import numpy as np\n",
    "\n",
    "import warnings\n",
    "warnings.filterwarnings(action=\"ignore\", module=\"scipy\", message=\"^internal gelsd\")\n",
    "\n",
    "def getQueryString(n):\n",
    "    sparql_query = \"\"\"\n",
    "    prefix p:       <http://ensembleprojects.org/ns/floodrisk/property#>\n",
    "    prefix pd:      <http://ensembleprojects.org/ns/floodrisk/property_data#>\n",
    "\n",
    "    select *\n",
    "    from <http://ensembleprojects.org/floodrisk/property>\n",
    "    where {{\n",
    "        p:{} pd:q5_gauge ?q5_gauge ;\n",
    "            pd:q10_gauge ?q10_gauge ;\n",
    "            pd:q20_gauge ?q20_gauge ;\n",
    "            pd:q50_gauge ?q50_gauge ;\n",
    "            pd:q75_gauge ?q75_gauge ;\n",
    "            pd:q100_gauge ?q100_gauge ;\n",
    "            pd:q200_gauge ?q200_gauge ;\n",
    "            pd:q1000_gauge ?q1000_gauge ;\n",
    "            pd:q5_existingLevelMean ?q5_existingLevelMean ;\n",
    "            pd:q10_existingLevelMean ?q10_existingLevelMean ;\n",
    "            pd:q20_existingLevelMean ?q20_existingLevelMean ;\n",
    "            pd:q20_existingLevelMean ?q20_existingLevelMean ;\n",
    "            pd:q50_existingLevelMean ?q50_existingLevelMean ;\n",
    "            pd:q75_existingLevelMean ?q75_existingLevelMean ;\n",
    "            pd:q100_existingLevelMean ?q100_existingLevelMean ;\n",
    "            pd:q200_existingLevelMean ?q200_existingLevelMean ;\n",
    "            pd:q1000_existingLevelMean ?q1000_existingLevelMean ;\n",
    "            pd:property_thresh ?property_thresh .\n",
    "    }}\n",
    "    \"\"\".format(n)\n",
    "    return sparql_query\n",
    "\n",
    "def getMetaDataString(n):\n",
    "    sparql_metadata = \"\"\"\n",
    "    prefix p:       <http://ensembleprojects.org/ns/floodrisk/property#>\n",
    "    prefix pd:      <http://ensembleprojects.org/ns/floodrisk/property_data#>\n",
    "    prefix gd:      <http://ensembleprojects.org/ns/floodrisk/gauge_data#>\n",
    "    prefix damage:  <http://ensembleprojects.org/ns/floodrisk/damage#>\n",
    "\n",
    "    select ?model_name ?company ?date ?modelsource ?propertytype ?gauge ?ead_mean\n",
    "    from <http://ensembleprojects.org/floodrisk/property>\n",
    "    from <http://ensembleprojects.org/floodrisk/gauge>\n",
    "    from <http://ensembleprojects.org/gauge>\n",
    "    from <http://ensembleprojects.org/floodrisk/damage#0>\n",
    "    where {{\n",
    "    p:{} pd:model ?model ;\n",
    "        pd:modelSource ?modelsource ;\n",
    "        pd:jbapropertyType ?propertytype ;\n",
    "        pd:jbapropRef ?propertyref ;\n",
    "        pd:station_name ?gauge ;\n",
    "        pd:gauge_siteRef ?gauge_siteref .\n",
    "    ?s gd:site_reference ?gauge_siteref ;\n",
    "        gd:station_model_id ?id .\n",
    "    ?id gd:station_model_name ?model_name ;\n",
    "        gd:station_model_company ?company ;\n",
    "        gd:station_model_date ?date .\n",
    "    ?ds damage:jbapropRef ?propertyref ;\n",
    "        damage:ead_mean ?ead_mean \n",
    "        }}\n",
    "    \"\"\".format(n)\n",
    "    return sparql_metadata\n",
    "\n",
    "# Assumes OpenLink Virtuoso sparql endpoint running at:\n",
    "sparql_endpoint = \"http://localhost:8890/sparql\"\n",
    "\n",
    "property = 24\n",
    "\n",
    "sparql_query = getQueryString(property)\n",
    "sparql = SPARQLWrapper(sparql_endpoint)\n",
    "sparql.setQuery(sparql_query)\n",
    "sparql.setReturnFormat(JSON)\n",
    "results = sparql.query().convert()\n",
    "val_array = []\n",
    "depth_array = []\n",
    "for result in results[\"results\"][\"bindings\"]:\n",
    "    for k, v in result.items():\n",
    "        if k == 'property_thresh':\n",
    "            property_threshold = float(result[k]['value'])\n",
    "        else:\n",
    "            val_array.append(float(result[k]['value']))\n",
    "gauge_array = val_array[:int(len(val_array)/2)]\n",
    "flood_array = val_array[int(len(val_array)/2):]\n",
    "for d in flood_array:\n",
    "    f = d-property_threshold\n",
    "    if f > 0:\n",
    "        depth_array.append(d-property_threshold)\n",
    "    else:\n",
    "        depth_array.append(0.0)\n",
    "plt.plot(depth_array,gauge_array,'--bo', label=\"Piecewise Linear\")\n",
    "plt.xlabel(\"Property Flood Height\")\n",
    "plt.ylabel(\"Gauge Level\")\n",
    "\n",
    "depth_array_2d = np.reshape(depth_array, (-1, 1))\n",
    "gauge_array_2d = np.reshape(gauge_array, (-1, 1))\n",
    "regr = linear_model.LinearRegression()\n",
    "regr.fit(depth_array_2d,gauge_array_2d)\n",
    "predictions = regr.predict(depth_array_2d)\n",
    "plt.plot(depth_array,predictions.flatten(),'--r', label=\"Linear Regression\")\n",
    "plt.legend(loc='upper left')\n",
    "plt.show()\n",
    "\n",
    "sparql_query = getMetaDataString(property)\n",
    "sparql.setQuery(sparql_query)\n",
    "results = sparql.query().convert()\n",
    "for result in results[\"results\"][\"bindings\"]:\n",
    "    print(\"Model Study:\\t\", result['model_name']['value'])\n",
    "    print(\"Organisation:\\t\", result['company']['value'])\n",
    "    print(\"Date:\\t\\t\", result['date']['value'])\n",
    "    print(\"Model Source:\\t\", result['modelsource']['value'])\n",
    "    print(\"Property Type:\\t\", result['propertytype']['value'])\n",
    "    print(\"Gauge Station:\\t\", result['gauge']['value'])\n",
    "    print(\"\\nEAD Mean:\\t\\t\", result['ead_mean']['value'])\n",
    "    \n",
    "sparql_query = \"\"\"\n",
    "prefix damage:     <http://ensembleprojects.org/ns/floodrisk/damage#>\n",
    "prefix damageData: <http://ensembleprojects.org/ns/floodrisk/damage_data#>\n",
    "\n",
    "select *\n",
    "from <http://ensembleprojects.org/floodrisk/damageestimates> \n",
    "where {\n",
    " ?s damageData:dataGraph <http://ensembleprojects.org/floodrisk/damage#0> ;\n",
    "    damageData:method ?method ;\n",
    "    damageData:interpolationScheme ?interpolationScheme ;\n",
    "    damageData:numRuns ?numRuns ;\n",
    "    damageData:uncertainty ?uncertainty ;\n",
    "    damageData:numSimulations ?numSimulations ;\n",
    "    damageData:software ?software;\n",
    "    damageData:date ?date .\n",
    " \n",
    "}\n",
    "\"\"\"\n",
    "sparql.setQuery(sparql_query)\n",
    "results = sparql.query().convert()\n",
    "for result in results[\"results\"][\"bindings\"]:\n",
    "    print(\"EAD Method:\\t\\t\", result['method']['value'])\n",
    "    print(\"EAD Interpolation:\\t\", result['interpolationScheme']['value'])\n",
    "    print(\"EAD Number of Runs:\\t\", result['numRuns']['value'])\n",
    "    print(\"EAD Uncertainty:\\t\", result['uncertainty']['value'])\n",
    "    print(\"EAD No. of Simulations:\\t\", result['numSimulations']['value'])\n",
    "    print(\"EAD Software:\\t\\t\", result['software']['value'])\n",
    "    print(\"EAD Date:\\t\\t\", result['date']['value'])\n",
    "    "
   ]
  },
  {
   "cell_type": "code",
   "execution_count": null,
   "metadata": {
    "scrolled": true
   },
   "outputs": [],
   "source": [
    "from SPARQLWrapper import SPARQLWrapper, JSON\n",
    "import pandas as pd\n",
    "\n",
    "sparql_query = \"\"\"\n",
    "prefix g:       <http://ensembleprojects.org/ns/floodrisk/gauge#>\n",
    "prefix gd:      <http://ensembleprojects.org/ns/floodrisk/gauge_data#>\n",
    "prefix p:       <http://ensembleprojects.org/ns/floodrisk/property#>\n",
    "prefix pd:      <http://ensembleprojects.org/ns/floodrisk/property_data#>\n",
    "prefix fr:      <http://ensembleprojects.org/floodrisk/>\n",
    "\n",
    "select ?name ?flow ?val\n",
    "from <http://ensembleprojects.org/floodrisk/gauge>\n",
    "from <http://ensembleprojects.org/floodrisk/property>\n",
    "where {\n",
    "        g:0 gd:station_name ?name .\n",
    "        g:0 ?flow ?val .\n",
    "        ?flow a fr:q .\n",
    "}\n",
    "\"\"\"\n",
    "# Assumes OpenLink Virtuoso sparql endpoint running at:\n",
    "sparql_endpoint = \"http://localhost:8890/sparql\"\n",
    "\n",
    "sparql = SPARQLWrapper(sparql_endpoint)\n",
    "sparql.setQuery(sparql_query)\n",
    "sparql.setReturnFormat(JSON)\n",
    "results = sparql.query().convert()\n",
    "\n",
    "df = pd.DataFrame(results['results']['bindings'])\n",
    "\n",
    "for index, row in df.iterrows():\n",
    "    print(row['flow'])\n",
    "\n",
    "\n",
    "\n",
    "#for result in results[\"results\"][\"bindings\"]:\n",
    "#   print (result[\"flow\"][\"value\"], result[\"name\"][\"value\"], result[\"val\"][\"value\"])"
   ]
  },
  {
   "cell_type": "code",
   "execution_count": null,
   "metadata": {
    "scrolled": true
   },
   "outputs": [],
   "source": [
    "from SPARQLWrapper import SPARQLWrapper, JSON\n",
    "\n",
    "sparql_query = \"\"\"\n",
    "select * \n",
    "from <http://ensembleprojects.org/floodrisk/damageestimates>\n",
    "where {\n",
    "  ?s ?p ?o\n",
    "}\n",
    "\"\"\"\n",
    "# Assumes OpenLink Virtuoso sparql endpoint running at:\n",
    "sparql_endpoint = \"http://localhost:8890/sparql\"\n",
    "\n",
    "sparql = SPARQLWrapper(sparql_endpoint)\n",
    "sparql.setQuery(sparql_query)\n",
    "sparql.setReturnFormat(JSON)\n",
    "results = sparql.query().convert()\n",
    "\n",
    "for result in results[\"results\"][\"bindings\"]:\n",
    "    print (result[\"s\"][\"value\"], result[\"p\"][\"value\"], result[\"o\"][\"value\"])"
   ]
  },
  {
   "cell_type": "code",
   "execution_count": null,
   "metadata": {},
   "outputs": [],
   "source": [
    "PREFIX pd: <http://ensembleprojects.org/ns/floodrisk/property_data#>\n",
    "      SELECT distinct ?gauge_siteRef ?station_name\n",
    "      FROM <http://ensembleprojects.org/floodrisk/property>\n",
    "      WHERE {\n",
    "        ?property pd:posttown \"NEWARK\" .\n",
    "        ?property pd:gauge_siteRef ?gauge_siteRef .\n",
    "        ?property pd:station_name ?station_name\n",
    "}"
   ]
  }
 ],
 "metadata": {
  "kernelspec": {
   "display_name": "SPARQL",
   "language": "",
   "name": "sparql"
  },
  "language_info": {
   "codemirror_mode": {
    "name": "sparql"
   },
   "mimetype": "application/sparql-query",
   "name": "sparql",
   "pygments_lexer": "sparql-nb"
  }
 },
 "nbformat": 4,
 "nbformat_minor": 2
}
