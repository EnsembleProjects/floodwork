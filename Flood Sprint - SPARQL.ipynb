{
 "cells": [
  {
   "cell_type": "markdown",
   "metadata": {},
   "source": [
    "## RISK ANALYSIS - SPARQL"
   ]
  },
  {
   "cell_type": "markdown",
   "metadata": {},
   "source": [
    "### What is the flood risk in Newark? \n",
    "As a flood risk manager, I want to understand the flood risk of Newark and the associated uncertainties. This flood risk assessment should combine information from all available data sources. Any inconsistencies in the modelling assumption should be made visible as well potential intervention strategies to reduce and mitigate flood risk.\n",
    "### Questions of interest\n",
    "__Damage Estimation__\n",
    "* What is the expected annual damage for Newark?\n",
    "* How are the damages separated by certain confounding factors?\n",
    ">* Type of property\n",
    ">* Gauges for which the properties are linked \n",
    ">* Flood warning areas\n",
    ">* Time of the modelling studies used in the damage estimations\n",
    "* How do the estimates vary through considering a number of different estimation techniques and uncertainties?\n",
    ">* Interpolation schemes \n",
    ">* Different assumptions\n",
    ">>* Onset of flooding\n",
    ">> * Truncation error\n",
    ">> * Uncertainty \t\n",
    "* Flood Defence Schemes (Cost Benefit Analysis)\n",
    ">* How much savings would flood defences with particular design criteria (protection to a particular return period) save? \n",
    ">* Since the hydraulic model was run, have any new flood defences been installed? \n",
    ">* Are there any proposed flood defence schemes in Newark? Does this analysis suggest that the flood defence is financially justified? \n",
    "* Observed Events\n",
    ">* Can retrieve information about these events from Section 19 reports or from other sources? \n",
    ">* Can we retrieve estimates of the return period and estimates of the damage of these observed event\n",
    ">>* Can this unstructured information provide additional information in the calculation of the expected annual damage\n",
    ">>* Is this new observed event greater than the design events considered in the hydraulic model? If so highlight the models that need to be rerun \n",
    "* Provenance of Models \n",
    ">* If a model is out of date, there should be the option to re run the model (it is unlikely that we will have the time to implement but we could produce a guided example through using the open source software HEC-RAS)\n",
    ">* If two potential models exist for the same location (this currently does not exist in the Communities at Risk data set), the query should reveal the differences between the two models and reveal the provenance of a particular model \n",
    "* How do I want the results to be presented?\n",
    ">* Where possible all results should be presented spatially? \n",
    ">* All possible available metadata should be returned along with the assumptions made in the damage calculations \n",
    ">* Possible interventions strategies to reduce flood risk should be suggested with supporting evidence \n",
    ">* Any models that might be out of date should be highlighted "
   ]
  },
  {
   "cell_type": "markdown",
   "metadata": {},
   "source": [
    "### Setup SPARQL parameters for triple store and data formatting"
   ]
  },
  {
   "cell_type": "code",
   "execution_count": 1,
   "metadata": {
    "scrolled": true
   },
   "outputs": [
    {
     "data": {
      "text/html": [
       "<div class=\"krn-spql\"><div class=\"magic\">Endpoint set to: http://virtuoso-db:8890/sparql/</div><div class=\"magic\">Return format: JSON</div><div class=\"magic\">Display: table</div></div>"
      ],
      "text/plain": [
       "Endpoint set to: http://virtuoso-db:8890/sparql/\n",
       "Return format: JSON\n",
       "Display: table\n"
      ]
     },
     "metadata": {},
     "output_type": "display_data"
    }
   ],
   "source": [
    "%endpoint http://virtuoso-db:8890/sparql/\n",
    "%format JSON\n",
    "%display table"
   ]
  },
  {
   "cell_type": "markdown",
   "metadata": {},
   "source": [
    "### General information about Newark from dbpedia"
   ]
  },
  {
   "cell_type": "code",
   "execution_count": 2,
   "metadata": {},
   "outputs": [
    {
     "data": {
      "text/html": [
       "<div class=\"krn-spql\"><table><tr class=hdr><th>postTown</th>\n",
       "<th>lat</th>\n",
       "<th>long</th>\n",
       "<th>comment</th>\n",
       "<th>population</th></tr><tr class=odd><td class=val>NEWARK</td>\n",
       "<td class=val>53.0765</td>\n",
       "<td class=val>-0.81</td>\n",
       "<td class=val>Newark-on-Trent or Newark /ˈnjuːək/ is a market town in Nottinghamshire in the East Midlands of England. It stands on the River Trent, the A1 (on the route of the ancient Great North Road), and the East Coast Main Line railway. The origins of the town are possibly Roman as it lies on an important Roman road, the Fosse Way. The town grew around Newark Castle, now ruined, and a large marketplace, now lined with historic buildings, and was a centre for the wool and cloth trade. In the English Civil War, it was besieged by Parliamentary forces and had to be relieved by Prince Rupert in a battle known as the Relief of Newark.</td>\n",
       "<td class=val>27700</td></tr></table><div class=\"tinfo\">Total: 1, Shown: 1</div></div>"
      ]
     },
     "metadata": {},
     "output_type": "display_data"
    }
   ],
   "source": [
    "prefix rdfs: <http://www.w3.org/2000/01/rdf-schema#>\n",
    "prefix dbp: <http://dbpedia.org/property/>\n",
    "prefix dbo: <http://dbpedia.org/ontology/>\n",
    "prefix dbr: <http://dbpedia.org/resource/>\n",
    "\n",
    "select distinct  ?postTown ?lat ?long ?comment ?population\n",
    "where  { \n",
    "    service <http://dbpedia.org/sparql/> {\n",
    "        dbr:Newark-on-Trent dbp:postTown ?postTown ;\n",
    "                            dbp:latitude ?lat ;\n",
    "                            dbp:longitude ?long ;\n",
    "                            rdfs:comment ?comment ;\n",
    "                            dbo:populationTotal ?population .\n",
    "        filter langMatches(lang(?comment),\"en\")\n",
    "    }\n",
    "}"
   ]
  },
  {
   "cell_type": "markdown",
   "metadata": {},
   "source": [
    "### EAD for Newark"
   ]
  },
  {
   "cell_type": "code",
   "execution_count": 3,
   "metadata": {},
   "outputs": [
    {
     "data": {
      "text/html": [
       "<div class=\"krn-spql\"><table><tr class=hdr><th>ead_mean</th></tr><tr class=odd><td class=val>2990942.123677239</td></tr></table><div class=\"tinfo\">Total: 1, Shown: 1</div></div>"
      ]
     },
     "metadata": {},
     "output_type": "display_data"
    }
   ],
   "source": [
    "prefix pd: <http://ensembleprojects.org/ds/ns/floodrisk/property_data#>\n",
    "prefix dpd: <http://ensembleprojects.org/ns/floodrisk/property_data#>\n",
    "prefix xsd: <http://www.w3.org/2001/XMLSchema#>\n",
    "\n",
    "select  (sum(xsd:decimal(?ead_mean)) as ?ead_mean)\n",
    "from <http://ensembleprojects.org/ds/floodrisk/property>\n",
    "from <http://ensembleprojects.org/graph/floodrisk/damage#0>\n",
    "where {\n",
    "    ?property pd:posttown \"NEWARK\" .\n",
    "    ?property pd:jbapropRef ?ref .\n",
    "    ?newProperty dpd:propRef ?ref . \n",
    "    ?newProperty dpd:ead_mean ?ead_mean .\n",
    "}\n"
   ]
  },
  {
   "cell_type": "markdown",
   "metadata": {},
   "source": [
    "### EAD for Newark by Property Type"
   ]
  },
  {
   "cell_type": "code",
   "execution_count": null,
   "metadata": {},
   "outputs": [],
   "source": [
    "prefix pd: <http://ensembleprojects.org/ds/ns/floodrisk/property_data#>\n",
    "prefix dpd: <http://ensembleprojects.org/ns/floodrisk/property_data#>\n",
    "prefix xsd: <http://www.w3.org/2001/XMLSchema#>\n",
    "\n",
    "select  ?jbapropertyType (sum(xsd:decimal(?ead_mean)) as ?ead_mean)\n",
    "from <http://ensembleprojects.org/ds/floodrisk/property>\n",
    "from <http://ensembleprojects.org/graph/floodrisk/damage#0>\n",
    "where {\n",
    "    ?property pd:posttown \"NEWARK\" ;\n",
    "              pd:jbapropertyType ?jbapropertyType ;\n",
    "              pd:jbapropRef ?ref .\n",
    "    ?newProperty dpd:propRef ?ref ; \n",
    "                 dpd:ead_mean ?ead_mean .\n",
    "}\n",
    "group by ?jbapropertyType"
   ]
  },
  {
   "cell_type": "markdown",
   "metadata": {},
   "source": [
    "### EAD for Newark by Gauge Station"
   ]
  },
  {
   "cell_type": "code",
   "execution_count": null,
   "metadata": {
    "scrolled": true
   },
   "outputs": [],
   "source": [
    "prefix pd:  <http://ensembleprojects.org/ds/ns/floodrisk/property_data#>\n",
    "prefix dpd: <http://ensembleprojects.org/ns/floodrisk/property_data#>\n",
    "prefix xsd: <http://www.w3.org/2001/XMLSchema#>\n",
    "\n",
    "select  ?station_name (sum(xsd:decimal(?ead_mean)) as ?ead_mean)\n",
    "from <http://ensembleprojects.org/ds/floodrisk/property>\n",
    "from <http://ensembleprojects.org/graph/floodrisk/damage#0>\n",
    "where {\n",
    "    ?property pd:posttown \"NEWARK\" ;\n",
    "              pd:station_name ?station_name ;\n",
    "              pd:jbapropRef ?ref .\n",
    "    ?newProperty dpd:propRef ?ref ; \n",
    "                 dpd:ead_mean ?ead_mean .\n",
    "}\n",
    "group by ?station_name"
   ]
  },
  {
   "cell_type": "markdown",
   "metadata": {},
   "source": [
    "### EAD for Newark by Flood Warning Areas"
   ]
  },
  {
   "cell_type": "code",
   "execution_count": null,
   "metadata": {},
   "outputs": [],
   "source": [
    "prefix pd:  <http://ensembleprojects.org/ds/ns/floodrisk/property_data#>\n",
    "prefix dpd: <http://ensembleprojects.org/ns/floodrisk/property_data#>\n",
    "prefix xsd: <http://www.w3.org/2001/XMLSchema#>\n",
    "\n",
    "select  ?fwa_name (sum(xsd:decimal(?ead_mean)) as ?ead_mean)\n",
    "from <http://ensembleprojects.org/ds/floodrisk/property>\n",
    "from <http://ensembleprojects.org/graph/floodrisk/damage#0>\n",
    "where {\n",
    "    ?property pd:posttown \"NEWARK\" ;\n",
    "              pd:fwa_name ?fwa_name ;\n",
    "              pd:jbapropRef ?ref .\n",
    "    ?newProperty dpd:propRef ?ref ; \n",
    "                 dpd:ead_mean ?ead_mean .\n",
    "}\n",
    "group by ?fwa_name"
   ]
  },
  {
   "cell_type": "markdown",
   "metadata": {},
   "source": [
    "### EAD for Newark by Flood Warning Zones"
   ]
  },
  {
   "cell_type": "code",
   "execution_count": null,
   "metadata": {},
   "outputs": [],
   "source": [
    "prefix pd:  <http://ensembleprojects.org/ds/ns/floodrisk/property_data#>\n",
    "prefix dpd: <http://ensembleprojects.org/ns/floodrisk/property_data#>\n",
    "prefix xsd: <http://www.w3.org/2001/XMLSchema#>\n",
    "\n",
    "select \n",
    "    (sum(xsd:decimal(?fz1)) as ?fz1) \n",
    "    (sum(xsd:decimal(?fz2)) as ?fz2)\n",
    "    (sum(xsd:decimal(?fz3)) as ?fz3)\n",
    "from <http://ensembleprojects.org/ds/floodrisk/property>\n",
    "from <http://ensembleprojects.org/graph/floodrisk/damage#0>\n",
    "where {\n",
    "    {\n",
    "        ?property pd:posttown \"NEWARK\" ;\n",
    "              pd:fz2 'NO';\n",
    "              pd:fz3 'YES';\n",
    "              pd:jbapropRef ?ref .\n",
    "        ?newProperty dpd:propRef ?ref ; \n",
    "                 dpd:ead_mean ?fz3 .        \n",
    "    }\n",
    "    union\n",
    "    {\n",
    "        ?property pd:posttown \"NEWARK\" ;\n",
    "              pd:fz2 'YES';\n",
    "              pd:fz3 'YES';\n",
    "              pd:jbapropRef ?ref .\n",
    "        ?newProperty dpd:propRef ?ref ; \n",
    "                 dpd:ead_mean ?fz2 .         \n",
    "    }\n",
    "    union\n",
    "    {\n",
    "        ?property pd:posttown \"NEWARK\" ;\n",
    "              pd:fz2 'NO';\n",
    "              pd:fz3 'NO';\n",
    "              pd:jbapropRef ?ref .\n",
    "        ?newProperty dpd:propRef ?ref ; \n",
    "                 dpd:ead_mean ?fz1 .         \n",
    "    }\n",
    "}\n"
   ]
  },
  {
   "cell_type": "markdown",
   "metadata": {},
   "source": [
    "### EAD for Newark by Model Study"
   ]
  },
  {
   "cell_type": "code",
   "execution_count": null,
   "metadata": {},
   "outputs": [],
   "source": [
    "prefix pd:  <http://ensembleprojects.org/ds/ns/floodrisk/property_data#>\n",
    "prefix dpd: <http://ensembleprojects.org/ns/floodrisk/property_data#>\n",
    "prefix xsd: <http://www.w3.org/2001/XMLSchema#>\n",
    "\n",
    "select  ?model (sum(xsd:decimal(?ead_mean)) as ?ead_mean)\n",
    "from <http://ensembleprojects.org/ds/floodrisk/property>\n",
    "from <http://ensembleprojects.org/graph/floodrisk/damage#0>\n",
    "where {\n",
    "    ?property pd:posttown \"NEWARK\" ;\n",
    "              pd:model ?model ;\n",
    "              pd:jbapropRef ?ref .\n",
    "    ?newProperty dpd:propRef ?ref ; \n",
    "                 dpd:ead_mean ?ead_mean .\n",
    "}\n",
    "group by ?model"
   ]
  },
  {
   "cell_type": "markdown",
   "metadata": {},
   "source": [
    "### Estimation uncertainty - Onset of Flooding"
   ]
  },
  {
   "cell_type": "code",
   "execution_count": null,
   "metadata": {},
   "outputs": [],
   "source": [
    "prefix pd:  <http://ensembleprojects.org/ds/ns/floodrisk/property_data#>\n",
    "prefix dpd: <http://ensembleprojects.org/ns/floodrisk/property_data#>\n",
    "prefix xsd: <http://www.w3.org/2001/XMLSchema#>\n",
    "\n",
    "select\n",
    "    (sum(xsd:decimal(?ead_mean_opt)) as ?ead_mean_opt)\n",
    "    (sum(xsd:decimal(?ead_mean_mid)) as ?ead_mean_mid)\n",
    "    (sum(xsd:decimal(?ead_mean_pess)) as ?ead_mean_pess)\n",
    "where {\n",
    "    graph <http://ensembleprojects.org/ds/floodrisk/property> {\n",
    "        ?property pd:posttown \"NEWARK\" .\n",
    "        ?property pd:jbapropRef ?jbapropRef\n",
    "    }\n",
    "    graph <http://ensembleprojects.org/graph/floodrisk/damage#0> {\n",
    "        ?newProperty dpd:propRef ?jbapropRef .\n",
    "        ?newProperty dpd:ead_mean ?ead_mean_opt .\n",
    "    }\n",
    "    graph <http://ensembleprojects.org/graph/floodrisk/damage#1> {\n",
    "        ?newProperty dpd:propRef ?jbapropRef .\n",
    "        ?newProperty dpd:ead_mean ?ead_mean_pess .\n",
    "    }\n",
    "    graph <http://ensembleprojects.org/graph/floodrisk/damage#2> {\n",
    "        ?newProperty dpd:propRef ?jbapropRef .\n",
    "        ?newProperty dpd:ead_mean ?ead_mean_mid .\n",
    "    }\n",
    "}"
   ]
  },
  {
   "cell_type": "markdown",
   "metadata": {},
   "source": [
    "### Estimation uncertainty - Truncation"
   ]
  },
  {
   "cell_type": "code",
   "execution_count": null,
   "metadata": {},
   "outputs": [],
   "source": [
    "prefix pd:  <http://ensembleprojects.org/ds/ns/floodrisk/property_data#>\n",
    "prefix dpd: <http://ensembleprojects.org/ns/floodrisk/property_data#>\n",
    "prefix xsd: <http://www.w3.org/2001/XMLSchema#>\n",
    "\n",
    "select\n",
    "    (sum(xsd:decimal(?ead_mean_opt)) as ?ead_mean_opt)\n",
    "    (sum(xsd:decimal(?ead_mean_mid)) as ?ead_mean_mid)\n",
    "    (sum(xsd:decimal(?ead_mean_pess)) as ?ead_mean_pess)\n",
    "where {\n",
    "    graph <http://ensembleprojects.org/ds/floodrisk/property> {\n",
    "        ?property pd:posttown \"NEWARK\" .\n",
    "        ?property pd:jbapropRef ?jbapropRef\n",
    "    }\n",
    "    graph <http://ensembleprojects.org/graph/floodrisk/damage#5> {\n",
    "        ?newProperty dpd:propRef ?jbapropRef .\n",
    "        ?newProperty dpd:opt ?ead_mean_opt .\n",
    "        ?newProperty dpd:mid ?ead_mean_mid .\n",
    "        ?newProperty dpd:pess ?ead_mean_pess .\n",
    "    }\n",
    "}"
   ]
  },
  {
   "cell_type": "markdown",
   "metadata": {},
   "source": [
    "### Estimation uncertainty - Monte Carlo Simulation"
   ]
  },
  {
   "cell_type": "code",
   "execution_count": null,
   "metadata": {},
   "outputs": [],
   "source": [
    "prefix pd:  <http://ensembleprojects.org/ds/ns/floodrisk/property_data#>\n",
    "prefix dpd: <http://ensembleprojects.org/ns/floodrisk/property_data#>\n",
    "prefix xsd: <http://www.w3.org/2001/XMLSchema#>\n",
    "\n",
    "select\n",
    "    (sum(xsd:decimal(?ead_mean)) as ?ead_mean)\n",
    "    (sum(xsd:decimal(?ead_lowerTi)) as ?ead_lowerTi)\n",
    "    (sum(xsd:decimal(?ead_upperTi)) as ?ead_upperTi)\n",
    "where {\n",
    "        graph <http://ensembleprojects.org/ds/floodrisk/property> {\n",
    "        ?property pd:posttown \"NEWARK\" .\n",
    "        ?property pd:jbapropRef ?jbapropRef\n",
    "    }\n",
    "    graph <http://ensembleprojects.org/graph/floodrisk/damage#3> {\n",
    "        ?newProperty dpd:propRef ?jbapropRef .\n",
    "        ?newProperty dpd:ead_mean ?ead_mean .\n",
    "        ?newProperty dpd:ead_lowerTi ?ead_lowerTi .\n",
    "        ?newProperty dpd:ead_upperTi ?ead_upperTi \n",
    "    }\n",
    "}"
   ]
  },
  {
   "cell_type": "markdown",
   "metadata": {},
   "source": [
    "### Observed Events - EAD for Colwick following observed event"
   ]
  },
  {
   "cell_type": "code",
   "execution_count": null,
   "metadata": {},
   "outputs": [],
   "source": [
    "prefix pd:  <http://ensembleprojects.org/ds/ns/floodrisk/property_data#>\n",
    "prefix dpd: <http://ensembleprojects.org/ns/floodrisk/property_data#>\n",
    "prefix xsd: <http://www.w3.org/2001/XMLSchema#>\n",
    "\n",
    "select\n",
    "    (sum(xsd:decimal(?ead)) as ?ead)\n",
    "where {\n",
    "    graph <http://ensembleprojects.org/ds/floodrisk/property> {\n",
    "        ?property pd:posttown \"NEWARK\" .\n",
    "        ?property pd:station_name \"COLWICK\" .\n",
    "        ?property pd:jbapropRef ?jbapropRef\n",
    "    }\n",
    "    graph <http://ensembleprojects.org/graph/floodrisk/damage#4> {\n",
    "        ?newProperty dpd:propRef ?jbapropRef .\n",
    "        ?newProperty dpd:ead ?ead \n",
    "    }\n",
    "}"
   ]
  },
  {
   "cell_type": "markdown",
   "metadata": {},
   "source": [
    "### Observed Events - Metadata"
   ]
  },
  {
   "cell_type": "code",
   "execution_count": null,
   "metadata": {},
   "outputs": [],
   "source": [
    "prefix ed: <http://ensembleprojects.org/ns/floodrisk/event_data#>\n",
    "select ?location ?rp ?properties ?source ?date\n",
    "where {\n",
    "    graph <http://ensembleprojects.org/graph/floodrisk/events> {\n",
    "        ?s ed:location ?location ;\n",
    "           ed:rp ?rp ;\n",
    "           ed:properties ?properties ;\n",
    "           ed:url ?source ;\n",
    "           ed:date ?date .\n",
    "    }\n",
    "}"
   ]
  },
  {
   "cell_type": "markdown",
   "metadata": {},
   "source": [
    "### Observed Events - EAD from C@R data"
   ]
  },
  {
   "cell_type": "code",
   "execution_count": null,
   "metadata": {},
   "outputs": [],
   "source": [
    "prefix pd:  <http://ensembleprojects.org/ds/ns/floodrisk/property_data#>\n",
    "prefix dpd: <http://ensembleprojects.org/ns/floodrisk/property_data#>\n",
    "prefix xsd: <http://www.w3.org/2001/XMLSchema#>\n",
    "\n",
    "select  (sum(xsd:decimal(?ead_mean)) as ?ead_mean)\n",
    "from <http://ensembleprojects.org/ds/floodrisk/property>\n",
    "from <http://ensembleprojects.org/graph/floodrisk/damage#0>\n",
    "where {\n",
    "    ?property pd:posttown \"NEWARK\" .\n",
    "    ?property pd:station_name \"COLWICK\" .\n",
    "    ?property pd:jbapropRef ?ref .\n",
    "    ?newProperty dpd:propRef ?ref . \n",
    "    ?newProperty dpd:ead_mean ?ead_mean .\n",
    "}"
   ]
  },
  {
   "cell_type": "markdown",
   "metadata": {},
   "source": [
    "### Observed Events - Retrieve lat/long information from external source\n",
    "#### Requires sponging in virtuoso to import external rdf"
   ]
  },
  {
   "cell_type": "code",
   "execution_count": null,
   "metadata": {},
   "outputs": [],
   "source": [
    "prefix gd:    <http://ensembleprojects.org/ds/ns/floodrisk/gauge_data#>\n",
    "prefix rt:    <http://environment.data.gov.uk/flood-monitoring/def/core/>\n",
    "prefix geo:   <http://www.w3.org/2003/01/geo/wgs84_pos#>\n",
    "\n",
    "select ?lat ?long ?label\n",
    "from <http://ensembleprojects.org/ds/floodrisk/gauge>\n",
    "from <http://ensembleprojects.org/ds/floodrisk/property>\n",
    "from <http://environment.data.gov.uk/flood-monitoring/id/stations.rdf>\n",
    "where {\n",
    "    ?local_gauge gd:station_name \"COLWICK\" ;\n",
    "       gd:site_reference ?site_reference .\n",
    "    ?ea_gauge rt:stationReference ?site_reference ;\n",
    "              geo:lat ?lat ;\n",
    "              geo:long ?long ;\n",
    "              rdfs:label ?label .\n",
    "}"
   ]
  },
  {
   "cell_type": "markdown",
   "metadata": {},
   "source": [
    "### Observed Events - Properties"
   ]
  },
  {
   "cell_type": "code",
   "execution_count": null,
   "metadata": {},
   "outputs": [],
   "source": [
    "prefix pd:  <http://ensembleprojects.org/ds/ns/floodrisk/property_data#>\n",
    "\n",
    "select  ?jbapropRef ?bngeast ?bngnorth\n",
    "from <http://ensembleprojects.org/ds/floodrisk/property>\n",
    "from <http://ensembleprojects.org/graph/floodrisk/damage#0>\n",
    "where {\n",
    "    ?property pd:posttown \"NEWARK\" ;\n",
    "              pd:station_name \"COLWICK\" ;\n",
    "              pd:jbapropRef ?jbapropRef ;\n",
    "              pd:bngeast ?bngeast ;\n",
    "              pd:bngnorth ?bngnorth .\n",
    "}"
   ]
  },
  {
   "cell_type": "markdown",
   "metadata": {},
   "source": [
    "### Observed Events - Property Details"
   ]
  },
  {
   "cell_type": "code",
   "execution_count": null,
   "metadata": {},
   "outputs": [],
   "source": [
    "prefix pd:  <http://ensembleprojects.org/ds/ns/floodrisk/property_data#>\n",
    "\n",
    "select  ?q2 ?q5 ?q10 ?q20 ?q50 ?q75 ?q100 ?q200 ?q1000\n",
    "from <http://ensembleprojects.org/ds/floodrisk/property>\n",
    "from <http://ensembleprojects.org/graph/floodrisk/damage#0>\n",
    "where {\n",
    "    ?s pd:jbapropRef '51183' ;\n",
    "       pd:q2_existingDamageMean ?q2 ;\n",
    "       pd:q5_existingDamagelMean ?q5 ;\n",
    "       pd:q10_existingDamageMean ?q10 ;\n",
    "       pd:q20_existingDamageMean ?q20 ;\n",
    "       pd:q50_existingDamageMean ?q50 ;\n",
    "       pd:q75_existingDamageMean ?q75 ;\n",
    "       pd:q100_existingDamageMean ?q100 ;\n",
    "       pd:q200_existingDamageMean ?q200 ;\n",
    "       pd:q1000_existingDamagelMean ?q1000 \n",
    "}"
   ]
  },
  {
   "cell_type": "code",
   "execution_count": null,
   "metadata": {},
   "outputs": [],
   "source": [
    "prefix gd: <http://ensembleprojects.org/ds/ns/floodrisk/gauge_data#>\n",
    "\n",
    "select distinct ?station_name ?site_reference\n",
    "from <http://ensembleprojects.org/ds/floodrisk/gauge>\n",
    "where {\n",
    "    ?s gd:station_name \"COLWICK\" ;\n",
    "       gd:site_reference ?site_reference .\n",
    "}"
   ]
  },
  {
   "cell_type": "code",
   "execution_count": null,
   "metadata": {},
   "outputs": [],
   "source": [
    "prefix pd:  <http://ensembleprojects.org/ds/ns/floodrisk/property_data#>\n",
    "prefix dpd: <http://ensembleprojects.org/ns/floodrisk/property_data#>\n",
    "prefix xsd: <http://www.w3.org/2001/XMLSchema#>\n",
    "\n",
    "select\n",
    "    (sum(xsd:decimal(?q0)) as ?Q0)\n",
    "    (sum(xsd:decimal(?q2)) as ?Q2)\n",
    "    (sum(xsd:decimal(?q5)) as ?Q5)\n",
    "    (sum(xsd:decimal(?q10)) as ?Q10)\n",
    "    (sum(xsd:decimal(?q20)) as ?Q20)\n",
    "    (sum(xsd:decimal(?q50)) as ?Q50)\n",
    "    (sum(xsd:decimal(?q75)) as ?Q75)\n",
    "    (sum(xsd:decimal(?q100)) as ?Q100)\n",
    "    (sum(xsd:decimal(?q200)) as ?Q200)\n",
    "    (sum(xsd:decimal(?q1000)) as ?Q1000)\n",
    "from <http://ensembleprojects.org/ds/floodrisk/property>\n",
    "from <http://ensembleprojects.org/graph/floodrisk/property#0>\n",
    "where {\n",
    "    ?property pd:posttown \"NEWARK\" ;\n",
    "              pd:jbapropRef ?ref .\n",
    "    ?newProperty dpd:propRef ?ref ; \n",
    "                 dpd:q0 ?q0 ;\n",
    "                 dpd:q2 ?q2 ;\n",
    "                 dpd:q5 ?q5 ;\n",
    "                 dpd:q10 ?q10 ;\n",
    "                 dpd:q20 ?q20 ;\n",
    "                 dpd:q50 ?q50 ;\n",
    "                 dpd:q75 ?q75 ;\n",
    "                 dpd:q100 ?q100 ;\n",
    "                 dpd:q200 ?q200 ;\n",
    "                 dpd:q1000 ?q1000 .\n",
    "}"
   ]
  }
 ],
 "metadata": {
  "kernelspec": {
   "display_name": "SPARQL",
   "language": "sparql",
   "name": "sparql"
  },
  "language_info": {
   "codemirror_mode": {
    "name": "sparql"
   },
   "mimetype": "application/sparql-query",
   "name": "sparql",
   "pygments_lexer": "sparql-nb"
  }
 },
 "nbformat": 4,
 "nbformat_minor": 2
}
