{
 "cells": [
  {
   "cell_type": "markdown",
   "metadata": {},
   "source": [
    "## RISK ANALYSIS - GUI"
   ]
  },
  {
   "cell_type": "markdown",
   "metadata": {},
   "source": [
    "#### Risk Analysis: What is the flood risk for Newark?\n",
    "\n",
    "Show me general information about the DNL area"
   ]
  },
  {
   "cell_type": "code",
   "execution_count": null,
   "metadata": {},
   "outputs": [],
   "source": [
    "import dnl\n",
    "ead_map = dnl.dnl_context()\n",
    "display(ead_map)"
   ]
  },
  {
   "cell_type": "markdown",
   "metadata": {},
   "source": [
    "#### Risk Analysis: What is the flood risk for Newark?\n",
    "\n",
    "Show the EAD for Newark (Segemented by property type and by gauging station)"
   ]
  },
  {
   "cell_type": "code",
   "execution_count": null,
   "metadata": {},
   "outputs": [],
   "source": [
    "import dnl\n",
    "from ipywidgets import VBox, HTML\n",
    "ead_map, property_text, gauge_text = dnl.dnl_ead()\n",
    "display(ead_map)\n",
    "VBox([HTML(property_text), HTML(gauge_text)])"
   ]
  },
  {
   "cell_type": "markdown",
   "metadata": {},
   "source": [
    "#### Risk Analysis: What is the flood risk for Newark?\n",
    "\n",
    "Update EAD with new empirical observations"
   ]
  },
  {
   "cell_type": "code",
   "execution_count": null,
   "metadata": {},
   "outputs": [],
   "source": [
    "import dnl\n",
    "from ipywidgets import VBox, HTML\n",
    "ead_map, text = dnl.dnl_observation()\n",
    "display(ead_map)\n",
    "HTML(text)"
   ]
  }
 ],
 "metadata": {
  "kernelspec": {
   "display_name": "Python 3",
   "language": "python",
   "name": "python3"
  },
  "language_info": {
   "codemirror_mode": {
    "name": "ipython",
    "version": 3
   },
   "file_extension": ".py",
   "mimetype": "text/x-python",
   "name": "python",
   "nbconvert_exporter": "python",
   "pygments_lexer": "ipython3",
   "version": "3.7.3"
  }
 },
 "nbformat": 4,
 "nbformat_minor": 2
}
